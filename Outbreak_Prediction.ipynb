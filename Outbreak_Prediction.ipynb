{
 "cells": [
  {
   "attachments": {},
   "cell_type": "markdown",
   "metadata": {},
   "source": [
    "## Disease Outbreak Prediction \n",
    "* Building a Machine Learning model based on various parameters such as weather features. <br>\n",
    "* Feature engineering implementation is the heart of this model.\n",
    "* Dataset\n",
    "    * Kaggle: [Contagious disease outbreak prediction](https://www.kaggle.com/pitt/contagious-diseases)<br>\n",
    "    * Historic Data extracted for the past 60 years extracted from [NOAA](https://www.ncdc.noaa.gov/cag/time-series/us)<br>\n",
    "* Machine Learning implementation based on multiple classifier algorithm implementations.\n",
    "* References used:\n",
    "    * [Rowan Chakoumakos - Disease severity outbreak prediction](https://web.stanford.edu/group/journal/cgi-bin/wordpress/wp-content/uploads/2012/09/Chakoumakos_Eng_2010.pdf)<br>\n",
    "    "
   ]
  },
  {
   "cell_type": "code",
   "execution_count": 190,
   "metadata": {
    "collapsed": true
   },
   "outputs": [],
   "source": [
    "# load pre-requisite dependencies\n",
    "import warnings\n",
    "warnings.filterwarnings(\"ignore\") \n",
    "import pandas as pd\n",
    "import calendar\n",
    "import numpy as np"
   ]
  },
  {
   "cell_type": "code",
   "execution_count": 191,
   "metadata": {
    "collapsed": true
   },
   "outputs": [],
   "source": [
    "# function to extract month and year from the dataset\n",
    "\n",
    "def week2month(hep):\n",
    "    hep['LastDayWeek'] = pd.to_datetime((hep['week']-1).astype(str) + \"6\", format=\"%Y%U%w\")\n",
    "    hep['MonthMax'] = pd.DatetimeIndex(hep['LastDayWeek']).month\n",
    "    hep['Year'] = pd.DatetimeIndex(hep['LastDayWeek']).year\n",
    "    hep['MonthName'] = [calendar.month_name[i] for i in hep.MonthMax]\n",
    "    return hep"
   ]
  },
  {
   "cell_type": "code",
   "execution_count": 192,
   "metadata": {
    "collapsed": true
   },
   "outputs": [],
   "source": [
    "# function to load the dataset\n",
    "\n",
    "def get_input_transform(file_):\n",
    "    return week2month(pd.read_csv(file_))"
   ]
  },
  {
   "cell_type": "code",
   "execution_count": 193,
   "metadata": {},
   "outputs": [],
   "source": [
    "# load the dataset from Kaggle\n",
    "hep = get_input_transform('hepatitis.csv')\n",
    "mea = get_input_transform('measles.csv')\n",
    "mum = get_input_transform('mumps.csv')\n",
    "per = get_input_transform('pertussis.csv')\n",
    "pol = get_input_transform('polio.csv')\n",
    "rub = get_input_transform('rubella.csv')\n",
    "sma = get_input_transform('smallpox.csv')"
   ]
  },
  {
   "cell_type": "code",
   "execution_count": 194,
   "metadata": {
    "scrolled": true
   },
   "outputs": [
    {
     "name": "stdout",
     "output_type": "stream",
     "text": [
      "<class 'pandas.core.frame.DataFrame'>\n",
      "Int64Index: 362035 entries, 0 to 53204\n",
      "Data columns (total 10 columns):\n",
      " #   Column                Non-Null Count   Dtype         \n",
      "---  ------                --------------   -----         \n",
      " 0   week                  362035 non-null  int64         \n",
      " 1   state                 362035 non-null  object        \n",
      " 2   state_name            362035 non-null  object        \n",
      " 3   disease               362035 non-null  object        \n",
      " 4   cases                 362035 non-null  object        \n",
      " 5   incidence_per_capita  362035 non-null  float64       \n",
      " 6   LastDayWeek           362035 non-null  datetime64[ns]\n",
      " 7   MonthMax              362035 non-null  int64         \n",
      " 8   Year                  362035 non-null  int64         \n",
      " 9   MonthName             362035 non-null  object        \n",
      "dtypes: datetime64[ns](1), float64(1), int64(3), object(5)\n",
      "memory usage: 30.4+ MB\n"
     ]
    }
   ],
   "source": [
    "# for our exploratory purpose we examine data for 1960 through to 2011 for US states\n",
    "# combining all the disease datasets is shown below\n",
    "\n",
    "train_data = hep\n",
    "for i in [mea,mum,per,pol,rub,sma]:\n",
    "    train_data = train_data.append(i)\n",
    "train_data = train_data.loc[(train_data['Year'] >= 1960) & (train_data['Year'] <=2011)]\n",
    "\n",
    "# examine the dataset \n",
    "train_data.head()\n",
    "train_data.info()"
   ]
  },
  {
   "cell_type": "code",
   "execution_count": 195,
   "metadata": {
    "collapsed": true
   },
   "outputs": [],
   "source": [
    "# # some data discrepancies must be resolved (issues like \\\\N )\n",
    "# Convert \"cases\" column to numeric\n",
    "train_data['cases'] = pd.to_numeric(train_data['cases'], errors='coerce')\n",
    "\n",
    "train_data_bad = train_data[train_data.cases==train_data.cases.max()]\n",
    "ind = list(train_data_bad.index)\n",
    "train_data = train_data.drop(train_data.index[ind])\n"
   ]
  },
  {
   "cell_type": "code",
   "execution_count": 196,
   "metadata": {
    "collapsed": true
   },
   "outputs": [],
   "source": [
    "# will be using visulisation.csv for our visualization purposes later\n",
    "\n",
    "train_data.to_csv('for_visulisation.csv')"
   ]
  },
  {
   "cell_type": "code",
   "execution_count": 197,
   "metadata": {},
   "outputs": [],
   "source": [
    "# cases attribute must be in integer form but given in str format (Numerical data of tmost importance!)\n",
    "# train_data['cases'] = pd.to_numeric(train_data['cases'], errors='coerce').astype('Int64')\n",
    "# train_data['cases'] = pd.to_numeric(train_data['cases'], errors='coerce').astype(float).astype('Int64')\n",
    "train_data.cases = train_data.cases.fillna(0).astype(int)\n",
    "\n",
    "#train_data['cases'] = train_data['cases'].astype(int)\n"
   ]
  },
  {
   "cell_type": "code",
   "execution_count": 198,
   "metadata": {},
   "outputs": [
    {
     "data": {
      "text/html": [
       "<div>\n",
       "<style scoped>\n",
       "    .dataframe tbody tr th:only-of-type {\n",
       "        vertical-align: middle;\n",
       "    }\n",
       "\n",
       "    .dataframe tbody tr th {\n",
       "        vertical-align: top;\n",
       "    }\n",
       "\n",
       "    .dataframe thead th {\n",
       "        text-align: right;\n",
       "    }\n",
       "</style>\n",
       "<table border=\"1\" class=\"dataframe\">\n",
       "  <thead>\n",
       "    <tr style=\"text-align: right;\">\n",
       "      <th></th>\n",
       "      <th>week</th>\n",
       "      <th>cases</th>\n",
       "      <th>incidence_per_capita</th>\n",
       "      <th>MonthMax</th>\n",
       "      <th>Year</th>\n",
       "    </tr>\n",
       "  </thead>\n",
       "  <tbody>\n",
       "    <tr>\n",
       "      <th>count</th>\n",
       "      <td>362032.000000</td>\n",
       "      <td>362032.000000</td>\n",
       "      <td>362032.000000</td>\n",
       "      <td>362032.000000</td>\n",
       "      <td>362032.000000</td>\n",
       "    </tr>\n",
       "    <tr>\n",
       "      <th>mean</th>\n",
       "      <td>198460.934078</td>\n",
       "      <td>15.230297</td>\n",
       "      <td>0.428848</td>\n",
       "      <td>6.933699</td>\n",
       "      <td>1984.324214</td>\n",
       "    </tr>\n",
       "    <tr>\n",
       "      <th>std</th>\n",
       "      <td>1331.217918</td>\n",
       "      <td>83.719718</td>\n",
       "      <td>2.206698</td>\n",
       "      <td>3.279819</td>\n",
       "      <td>13.301150</td>\n",
       "    </tr>\n",
       "    <tr>\n",
       "      <th>min</th>\n",
       "      <td>196001.000000</td>\n",
       "      <td>0.000000</td>\n",
       "      <td>0.000000</td>\n",
       "      <td>1.000000</td>\n",
       "      <td>1960.000000</td>\n",
       "    </tr>\n",
       "    <tr>\n",
       "      <th>25%</th>\n",
       "      <td>197349.000000</td>\n",
       "      <td>0.000000</td>\n",
       "      <td>0.000000</td>\n",
       "      <td>4.000000</td>\n",
       "      <td>1973.000000</td>\n",
       "    </tr>\n",
       "    <tr>\n",
       "      <th>50%</th>\n",
       "      <td>198342.000000</td>\n",
       "      <td>1.000000</td>\n",
       "      <td>0.030000</td>\n",
       "      <td>7.000000</td>\n",
       "      <td>1983.000000</td>\n",
       "    </tr>\n",
       "    <tr>\n",
       "      <th>75%</th>\n",
       "      <td>199524.000000</td>\n",
       "      <td>7.000000</td>\n",
       "      <td>0.190000</td>\n",
       "      <td>10.000000</td>\n",
       "      <td>1995.000000</td>\n",
       "    </tr>\n",
       "    <tr>\n",
       "      <th>max</th>\n",
       "      <td>201152.000000</td>\n",
       "      <td>5998.000000</td>\n",
       "      <td>191.220000</td>\n",
       "      <td>12.000000</td>\n",
       "      <td>2011.000000</td>\n",
       "    </tr>\n",
       "  </tbody>\n",
       "</table>\n",
       "</div>"
      ],
      "text/plain": [
       "                week          cases  incidence_per_capita       MonthMax  \\\n",
       "count  362032.000000  362032.000000         362032.000000  362032.000000   \n",
       "mean   198460.934078      15.230297              0.428848       6.933699   \n",
       "std      1331.217918      83.719718              2.206698       3.279819   \n",
       "min    196001.000000       0.000000              0.000000       1.000000   \n",
       "25%    197349.000000       0.000000              0.000000       4.000000   \n",
       "50%    198342.000000       1.000000              0.030000       7.000000   \n",
       "75%    199524.000000       7.000000              0.190000      10.000000   \n",
       "max    201152.000000    5998.000000            191.220000      12.000000   \n",
       "\n",
       "                Year  \n",
       "count  362032.000000  \n",
       "mean     1984.324214  \n",
       "std        13.301150  \n",
       "min      1960.000000  \n",
       "25%      1973.000000  \n",
       "50%      1983.000000  \n",
       "75%      1995.000000  \n",
       "max      2011.000000  "
      ]
     },
     "execution_count": 198,
     "metadata": {},
     "output_type": "execute_result"
    }
   ],
   "source": [
    "# examining the characteristics of the dataset\n",
    "train_data.describe()"
   ]
  },
  {
   "cell_type": "code",
   "execution_count": 199,
   "metadata": {
    "collapsed": true
   },
   "outputs": [],
   "source": [
    "# converting non-numerical data to lowercase (to keep consistencies over all future datasets included)\n",
    "\n",
    "train_data.state_name = [i.lower() for i in train_data.state_name]"
   ]
  },
  {
   "attachments": {},
   "cell_type": "markdown",
   "metadata": {},
   "source": [
    "## Feature additions\n",
    "* Adding features like\n",
    "    * Average temperature\n",
    "    * Average precipitation\n",
    "* These features have certain effect on the contagious disease spread "
   ]
  },
  {
   "attachments": {},
   "cell_type": "markdown",
   "metadata": {},
   "source": [
    "### Average temperature"
   ]
  },
  {
   "cell_type": "code",
   "execution_count": 200,
   "metadata": {},
   "outputs": [],
   "source": [
    "# load the average temperature dataset (source: NOAA)\n",
    "'''\n",
    "    components of dataset:\n",
    "        Date   : yyyymm ,where y-year and m-month\n",
    "        Value  : average temperature value\n",
    "        Anomaly: deviation from mean temperature \n",
    "        state  : state for the corresponing data tuple (US states used for the data)\n",
    "'''\n",
    "\n",
    "join_tavg = pd.read_csv('tavg.csv', index_col= 0)\n",
    "\n",
    "# make sure non-nmerical data in lowercase format\n",
    "join_tavg.state = [i.lower() for i in join_tavg.state]"
   ]
  },
  {
   "cell_type": "code",
   "execution_count": 201,
   "metadata": {
    "collapsed": true
   },
   "outputs": [],
   "source": [
    "# convert the column names for tavg dataset to match column names to our primary dataset\n",
    "join_tavg.columns = ['week', 't_avg', 'tavg_anomaly', 'state_name']"
   ]
  },
  {
   "cell_type": "code",
   "execution_count": 202,
   "metadata": {},
   "outputs": [
    {
     "name": "stdout",
     "output_type": "stream",
     "text": [
      "(2444, 4)\n"
     ]
    },
    {
     "data": {
      "text/html": [
       "<div>\n",
       "<style scoped>\n",
       "    .dataframe tbody tr th:only-of-type {\n",
       "        vertical-align: middle;\n",
       "    }\n",
       "\n",
       "    .dataframe tbody tr th {\n",
       "        vertical-align: top;\n",
       "    }\n",
       "\n",
       "    .dataframe thead th {\n",
       "        text-align: right;\n",
       "    }\n",
       "</style>\n",
       "<table border=\"1\" class=\"dataframe\">\n",
       "  <thead>\n",
       "    <tr style=\"text-align: right;\">\n",
       "      <th></th>\n",
       "      <th>week</th>\n",
       "      <th>t_avg</th>\n",
       "      <th>tavg_anomaly</th>\n",
       "      <th>state_name</th>\n",
       "    </tr>\n",
       "    <tr>\n",
       "      <th>Unmaned:0</th>\n",
       "      <th></th>\n",
       "      <th></th>\n",
       "      <th></th>\n",
       "      <th></th>\n",
       "    </tr>\n",
       "  </thead>\n",
       "  <tbody>\n",
       "    <tr>\n",
       "      <th>0</th>\n",
       "      <td>196004</td>\n",
       "      <td>49.6</td>\n",
       "      <td>-3.2</td>\n",
       "      <td>alabama</td>\n",
       "    </tr>\n",
       "    <tr>\n",
       "      <th>1</th>\n",
       "      <td>196104</td>\n",
       "      <td>51.9</td>\n",
       "      <td>-0.9</td>\n",
       "      <td>alabama</td>\n",
       "    </tr>\n",
       "    <tr>\n",
       "      <th>2</th>\n",
       "      <td>196204</td>\n",
       "      <td>52.2</td>\n",
       "      <td>-0.6</td>\n",
       "      <td>alabama</td>\n",
       "    </tr>\n",
       "    <tr>\n",
       "      <th>3</th>\n",
       "      <td>196304</td>\n",
       "      <td>51.3</td>\n",
       "      <td>-1.5</td>\n",
       "      <td>alabama</td>\n",
       "    </tr>\n",
       "    <tr>\n",
       "      <th>4</th>\n",
       "      <td>196404</td>\n",
       "      <td>51.0</td>\n",
       "      <td>-1.8</td>\n",
       "      <td>alabama</td>\n",
       "    </tr>\n",
       "  </tbody>\n",
       "</table>\n",
       "</div>"
      ],
      "text/plain": [
       "             week  t_avg  tavg_anomaly state_name\n",
       "Unmaned:0                                        \n",
       "0          196004   49.6          -3.2    alabama\n",
       "1          196104   51.9          -0.9    alabama\n",
       "2          196204   52.2          -0.6    alabama\n",
       "3          196304   51.3          -1.5    alabama\n",
       "4          196404   51.0          -1.8    alabama"
      ]
     },
     "execution_count": 202,
     "metadata": {},
     "output_type": "execute_result"
    }
   ],
   "source": [
    "# examine the dataset\n",
    "\n",
    "print (join_tavg.shape)\n",
    "join_tavg.head()"
   ]
  },
  {
   "cell_type": "code",
   "execution_count": 203,
   "metadata": {},
   "outputs": [],
   "source": [
    "# join the avg temperature dataset with our priary dataset over common columns\n",
    "\n",
    "result = pd.merge(train_data, join_tavg, on=['week', 'state_name'])"
   ]
  },
  {
   "cell_type": "code",
   "execution_count": 204,
   "metadata": {
    "scrolled": true
   },
   "outputs": [
    {
     "name": "stdout",
     "output_type": "stream",
     "text": [
      "(4617, 12)\n"
     ]
    },
    {
     "data": {
      "text/html": [
       "<div>\n",
       "<style scoped>\n",
       "    .dataframe tbody tr th:only-of-type {\n",
       "        vertical-align: middle;\n",
       "    }\n",
       "\n",
       "    .dataframe tbody tr th {\n",
       "        vertical-align: top;\n",
       "    }\n",
       "\n",
       "    .dataframe thead th {\n",
       "        text-align: right;\n",
       "    }\n",
       "</style>\n",
       "<table border=\"1\" class=\"dataframe\">\n",
       "  <thead>\n",
       "    <tr style=\"text-align: right;\">\n",
       "      <th></th>\n",
       "      <th>week</th>\n",
       "      <th>state</th>\n",
       "      <th>state_name</th>\n",
       "      <th>disease</th>\n",
       "      <th>cases</th>\n",
       "      <th>incidence_per_capita</th>\n",
       "      <th>LastDayWeek</th>\n",
       "      <th>MonthMax</th>\n",
       "      <th>Year</th>\n",
       "      <th>MonthName</th>\n",
       "      <th>t_avg</th>\n",
       "      <th>tavg_anomaly</th>\n",
       "    </tr>\n",
       "  </thead>\n",
       "  <tbody>\n",
       "    <tr>\n",
       "      <th>0</th>\n",
       "      <td>196604</td>\n",
       "      <td>AL</td>\n",
       "      <td>alabama</td>\n",
       "      <td>HEPATITIS A</td>\n",
       "      <td>4</td>\n",
       "      <td>0.12</td>\n",
       "      <td>1966-01-22</td>\n",
       "      <td>1</td>\n",
       "      <td>1966</td>\n",
       "      <td>January</td>\n",
       "      <td>50.8</td>\n",
       "      <td>-2.0</td>\n",
       "    </tr>\n",
       "    <tr>\n",
       "      <th>1</th>\n",
       "      <td>196604</td>\n",
       "      <td>AL</td>\n",
       "      <td>alabama</td>\n",
       "      <td>MEASLES</td>\n",
       "      <td>19</td>\n",
       "      <td>0.55</td>\n",
       "      <td>1966-01-22</td>\n",
       "      <td>1</td>\n",
       "      <td>1966</td>\n",
       "      <td>January</td>\n",
       "      <td>50.8</td>\n",
       "      <td>-2.0</td>\n",
       "    </tr>\n",
       "    <tr>\n",
       "      <th>2</th>\n",
       "      <td>196604</td>\n",
       "      <td>AZ</td>\n",
       "      <td>arizona</td>\n",
       "      <td>HEPATITIS A</td>\n",
       "      <td>18</td>\n",
       "      <td>1.12</td>\n",
       "      <td>1966-01-22</td>\n",
       "      <td>1</td>\n",
       "      <td>1966</td>\n",
       "      <td>January</td>\n",
       "      <td>46.6</td>\n",
       "      <td>-1.3</td>\n",
       "    </tr>\n",
       "    <tr>\n",
       "      <th>3</th>\n",
       "      <td>196604</td>\n",
       "      <td>AZ</td>\n",
       "      <td>arizona</td>\n",
       "      <td>MEASLES</td>\n",
       "      <td>94</td>\n",
       "      <td>5.82</td>\n",
       "      <td>1966-01-22</td>\n",
       "      <td>1</td>\n",
       "      <td>1966</td>\n",
       "      <td>January</td>\n",
       "      <td>46.6</td>\n",
       "      <td>-1.3</td>\n",
       "    </tr>\n",
       "    <tr>\n",
       "      <th>4</th>\n",
       "      <td>196604</td>\n",
       "      <td>AZ</td>\n",
       "      <td>arizona</td>\n",
       "      <td>RUBELLA</td>\n",
       "      <td>37</td>\n",
       "      <td>2.29</td>\n",
       "      <td>1966-01-22</td>\n",
       "      <td>1</td>\n",
       "      <td>1966</td>\n",
       "      <td>January</td>\n",
       "      <td>46.6</td>\n",
       "      <td>-1.3</td>\n",
       "    </tr>\n",
       "  </tbody>\n",
       "</table>\n",
       "</div>"
      ],
      "text/plain": [
       "     week state state_name      disease  cases  incidence_per_capita  \\\n",
       "0  196604    AL    alabama  HEPATITIS A      4                  0.12   \n",
       "1  196604    AL    alabama      MEASLES     19                  0.55   \n",
       "2  196604    AZ    arizona  HEPATITIS A     18                  1.12   \n",
       "3  196604    AZ    arizona      MEASLES     94                  5.82   \n",
       "4  196604    AZ    arizona      RUBELLA     37                  2.29   \n",
       "\n",
       "  LastDayWeek  MonthMax  Year MonthName  t_avg  tavg_anomaly  \n",
       "0  1966-01-22         1  1966   January   50.8          -2.0  \n",
       "1  1966-01-22         1  1966   January   50.8          -2.0  \n",
       "2  1966-01-22         1  1966   January   46.6          -1.3  \n",
       "3  1966-01-22         1  1966   January   46.6          -1.3  \n",
       "4  1966-01-22         1  1966   January   46.6          -1.3  "
      ]
     },
     "execution_count": 204,
     "metadata": {},
     "output_type": "execute_result"
    }
   ],
   "source": [
    "#examining the primary dataset\n",
    "\n",
    "print (result.shape)\n",
    "train_data = result # make this your current working dataframe \n",
    "result.head()"
   ]
  },
  {
   "cell_type": "code",
   "execution_count": 205,
   "metadata": {
    "scrolled": true
   },
   "outputs": [
    {
     "data": {
      "text/html": [
       "<div>\n",
       "<style scoped>\n",
       "    .dataframe tbody tr th:only-of-type {\n",
       "        vertical-align: middle;\n",
       "    }\n",
       "\n",
       "    .dataframe tbody tr th {\n",
       "        vertical-align: top;\n",
       "    }\n",
       "\n",
       "    .dataframe thead th {\n",
       "        text-align: right;\n",
       "    }\n",
       "</style>\n",
       "<table border=\"1\" class=\"dataframe\">\n",
       "  <thead>\n",
       "    <tr style=\"text-align: right;\">\n",
       "      <th></th>\n",
       "      <th>week</th>\n",
       "      <th>state</th>\n",
       "      <th>state_name</th>\n",
       "      <th>disease</th>\n",
       "      <th>cases</th>\n",
       "      <th>incidence_per_capita</th>\n",
       "      <th>LastDayWeek</th>\n",
       "      <th>MonthMax</th>\n",
       "      <th>Year</th>\n",
       "      <th>MonthName</th>\n",
       "      <th>t_avg</th>\n",
       "      <th>tavg_anomaly</th>\n",
       "    </tr>\n",
       "  </thead>\n",
       "  <tbody>\n",
       "    <tr>\n",
       "      <th>0</th>\n",
       "      <td>196604</td>\n",
       "      <td>AL</td>\n",
       "      <td>alabama</td>\n",
       "      <td>HEPATITIS A</td>\n",
       "      <td>4</td>\n",
       "      <td>0.12</td>\n",
       "      <td>1966-01-22</td>\n",
       "      <td>1</td>\n",
       "      <td>1966</td>\n",
       "      <td>January</td>\n",
       "      <td>50.8</td>\n",
       "      <td>-2.0</td>\n",
       "    </tr>\n",
       "    <tr>\n",
       "      <th>1</th>\n",
       "      <td>196604</td>\n",
       "      <td>AL</td>\n",
       "      <td>alabama</td>\n",
       "      <td>MEASLES</td>\n",
       "      <td>19</td>\n",
       "      <td>0.55</td>\n",
       "      <td>1966-01-22</td>\n",
       "      <td>1</td>\n",
       "      <td>1966</td>\n",
       "      <td>January</td>\n",
       "      <td>50.8</td>\n",
       "      <td>-2.0</td>\n",
       "    </tr>\n",
       "    <tr>\n",
       "      <th>2</th>\n",
       "      <td>196604</td>\n",
       "      <td>AZ</td>\n",
       "      <td>arizona</td>\n",
       "      <td>HEPATITIS A</td>\n",
       "      <td>18</td>\n",
       "      <td>1.12</td>\n",
       "      <td>1966-01-22</td>\n",
       "      <td>1</td>\n",
       "      <td>1966</td>\n",
       "      <td>January</td>\n",
       "      <td>46.6</td>\n",
       "      <td>-1.3</td>\n",
       "    </tr>\n",
       "    <tr>\n",
       "      <th>3</th>\n",
       "      <td>196604</td>\n",
       "      <td>AZ</td>\n",
       "      <td>arizona</td>\n",
       "      <td>MEASLES</td>\n",
       "      <td>94</td>\n",
       "      <td>5.82</td>\n",
       "      <td>1966-01-22</td>\n",
       "      <td>1</td>\n",
       "      <td>1966</td>\n",
       "      <td>January</td>\n",
       "      <td>46.6</td>\n",
       "      <td>-1.3</td>\n",
       "    </tr>\n",
       "    <tr>\n",
       "      <th>4</th>\n",
       "      <td>196604</td>\n",
       "      <td>AZ</td>\n",
       "      <td>arizona</td>\n",
       "      <td>RUBELLA</td>\n",
       "      <td>37</td>\n",
       "      <td>2.29</td>\n",
       "      <td>1966-01-22</td>\n",
       "      <td>1</td>\n",
       "      <td>1966</td>\n",
       "      <td>January</td>\n",
       "      <td>46.6</td>\n",
       "      <td>-1.3</td>\n",
       "    </tr>\n",
       "  </tbody>\n",
       "</table>\n",
       "</div>"
      ],
      "text/plain": [
       "     week state state_name      disease  cases  incidence_per_capita  \\\n",
       "0  196604    AL    alabama  HEPATITIS A      4                  0.12   \n",
       "1  196604    AL    alabama      MEASLES     19                  0.55   \n",
       "2  196604    AZ    arizona  HEPATITIS A     18                  1.12   \n",
       "3  196604    AZ    arizona      MEASLES     94                  5.82   \n",
       "4  196604    AZ    arizona      RUBELLA     37                  2.29   \n",
       "\n",
       "  LastDayWeek  MonthMax  Year MonthName  t_avg  tavg_anomaly  \n",
       "0  1966-01-22         1  1966   January   50.8          -2.0  \n",
       "1  1966-01-22         1  1966   January   50.8          -2.0  \n",
       "2  1966-01-22         1  1966   January   46.6          -1.3  \n",
       "3  1966-01-22         1  1966   January   46.6          -1.3  \n",
       "4  1966-01-22         1  1966   January   46.6          -1.3  "
      ]
     },
     "execution_count": 205,
     "metadata": {},
     "output_type": "execute_result"
    }
   ],
   "source": [
    "# examining the primary dataset now\n",
    "train_data.head()"
   ]
  },
  {
   "attachments": {},
   "cell_type": "markdown",
   "metadata": {},
   "source": [
    "### Average Precipitation"
   ]
  },
  {
   "cell_type": "code",
   "execution_count": 206,
   "metadata": {},
   "outputs": [],
   "source": [
    "# load the precipitation data (source: NOAA)\n",
    "\n",
    "join_pcp = pd.read_csv('pcp.csv', index_col= 0)\n",
    "\n",
    "join_pcp.state = [i.lower() for i in join_pcp.state] # lowercasing the non-numerical data\n",
    "\n",
    "join_pcp.columns = ['week', 'precipitate', 'pcp_anomaly', 'state_name'] # change colun names for merging purpose"
   ]
  },
  {
   "cell_type": "code",
   "execution_count": 207,
   "metadata": {
    "collapsed": true
   },
   "outputs": [],
   "source": [
    "# joining the precipitation dataset to the primary dataset over common columns\n",
    "\n",
    "result = pd.merge(train_data, join_pcp, on=['week', 'state_name'])"
   ]
  },
  {
   "cell_type": "code",
   "execution_count": 208,
   "metadata": {
    "scrolled": true
   },
   "outputs": [
    {
     "data": {
      "text/html": [
       "<div>\n",
       "<style scoped>\n",
       "    .dataframe tbody tr th:only-of-type {\n",
       "        vertical-align: middle;\n",
       "    }\n",
       "\n",
       "    .dataframe tbody tr th {\n",
       "        vertical-align: top;\n",
       "    }\n",
       "\n",
       "    .dataframe thead th {\n",
       "        text-align: right;\n",
       "    }\n",
       "</style>\n",
       "<table border=\"1\" class=\"dataframe\">\n",
       "  <thead>\n",
       "    <tr style=\"text-align: right;\">\n",
       "      <th></th>\n",
       "      <th>week</th>\n",
       "      <th>state</th>\n",
       "      <th>state_name</th>\n",
       "      <th>disease</th>\n",
       "      <th>cases</th>\n",
       "      <th>incidence_per_capita</th>\n",
       "      <th>LastDayWeek</th>\n",
       "      <th>MonthMax</th>\n",
       "      <th>Year</th>\n",
       "      <th>MonthName</th>\n",
       "      <th>t_avg</th>\n",
       "      <th>tavg_anomaly</th>\n",
       "      <th>precipitate</th>\n",
       "      <th>pcp_anomaly</th>\n",
       "    </tr>\n",
       "  </thead>\n",
       "  <tbody>\n",
       "    <tr>\n",
       "      <th>0</th>\n",
       "      <td>196604</td>\n",
       "      <td>IA</td>\n",
       "      <td>iowa</td>\n",
       "      <td>HEPATITIS A</td>\n",
       "      <td>2</td>\n",
       "      <td>0.07</td>\n",
       "      <td>1966-01-22</td>\n",
       "      <td>1</td>\n",
       "      <td>1966</td>\n",
       "      <td>January</td>\n",
       "      <td>29.2</td>\n",
       "      <td>-1.6</td>\n",
       "      <td>1.93</td>\n",
       "      <td>-1.08</td>\n",
       "    </tr>\n",
       "    <tr>\n",
       "      <th>1</th>\n",
       "      <td>196604</td>\n",
       "      <td>IA</td>\n",
       "      <td>iowa</td>\n",
       "      <td>MEASLES</td>\n",
       "      <td>89</td>\n",
       "      <td>3.22</td>\n",
       "      <td>1966-01-22</td>\n",
       "      <td>1</td>\n",
       "      <td>1966</td>\n",
       "      <td>January</td>\n",
       "      <td>29.2</td>\n",
       "      <td>-1.6</td>\n",
       "      <td>1.93</td>\n",
       "      <td>-1.08</td>\n",
       "    </tr>\n",
       "    <tr>\n",
       "      <th>2</th>\n",
       "      <td>196604</td>\n",
       "      <td>IA</td>\n",
       "      <td>iowa</td>\n",
       "      <td>RUBELLA</td>\n",
       "      <td>32</td>\n",
       "      <td>1.16</td>\n",
       "      <td>1966-01-22</td>\n",
       "      <td>1</td>\n",
       "      <td>1966</td>\n",
       "      <td>January</td>\n",
       "      <td>29.2</td>\n",
       "      <td>-1.6</td>\n",
       "      <td>1.93</td>\n",
       "      <td>-1.08</td>\n",
       "    </tr>\n",
       "    <tr>\n",
       "      <th>3</th>\n",
       "      <td>196604</td>\n",
       "      <td>ID</td>\n",
       "      <td>idaho</td>\n",
       "      <td>HEPATITIS A</td>\n",
       "      <td>1</td>\n",
       "      <td>0.15</td>\n",
       "      <td>1966-01-22</td>\n",
       "      <td>1</td>\n",
       "      <td>1966</td>\n",
       "      <td>January</td>\n",
       "      <td>30.8</td>\n",
       "      <td>0.3</td>\n",
       "      <td>0.95</td>\n",
       "      <td>-1.02</td>\n",
       "    </tr>\n",
       "    <tr>\n",
       "      <th>4</th>\n",
       "      <td>196604</td>\n",
       "      <td>ID</td>\n",
       "      <td>idaho</td>\n",
       "      <td>MEASLES</td>\n",
       "      <td>58</td>\n",
       "      <td>8.42</td>\n",
       "      <td>1966-01-22</td>\n",
       "      <td>1</td>\n",
       "      <td>1966</td>\n",
       "      <td>January</td>\n",
       "      <td>30.8</td>\n",
       "      <td>0.3</td>\n",
       "      <td>0.95</td>\n",
       "      <td>-1.02</td>\n",
       "    </tr>\n",
       "  </tbody>\n",
       "</table>\n",
       "</div>"
      ],
      "text/plain": [
       "     week state state_name      disease  cases  incidence_per_capita  \\\n",
       "0  196604    IA       iowa  HEPATITIS A      2                  0.07   \n",
       "1  196604    IA       iowa      MEASLES     89                  3.22   \n",
       "2  196604    IA       iowa      RUBELLA     32                  1.16   \n",
       "3  196604    ID      idaho  HEPATITIS A      1                  0.15   \n",
       "4  196604    ID      idaho      MEASLES     58                  8.42   \n",
       "\n",
       "  LastDayWeek  MonthMax  Year MonthName  t_avg  tavg_anomaly  precipitate  \\\n",
       "0  1966-01-22         1  1966   January   29.2          -1.6         1.93   \n",
       "1  1966-01-22         1  1966   January   29.2          -1.6         1.93   \n",
       "2  1966-01-22         1  1966   January   29.2          -1.6         1.93   \n",
       "3  1966-01-22         1  1966   January   30.8           0.3         0.95   \n",
       "4  1966-01-22         1  1966   January   30.8           0.3         0.95   \n",
       "\n",
       "   pcp_anomaly  \n",
       "0        -1.08  \n",
       "1        -1.08  \n",
       "2        -1.08  \n",
       "3        -1.02  \n",
       "4        -1.02  "
      ]
     },
     "execution_count": 208,
     "metadata": {},
     "output_type": "execute_result"
    }
   ],
   "source": [
    "# examining the data after addition of the features\n",
    "\n",
    "result.head()"
   ]
  },
  {
   "cell_type": "code",
   "execution_count": 210,
   "metadata": {},
   "outputs": [],
   "source": [
    "## Normalize the statistical data\n",
    "\n",
    "# from sklearn.preprocessing import MinMaxScaler as mm\n",
    "\n",
    "# scaler = mm()\n",
    "\n",
    "# # avg temp deviations\n",
    "# scaler.fit(train_data['tavg_anomaly'].reshape(-1,1))\n",
    "# train_data['tavg_anomaly'] = scaler.transform(train_data['tavg_anomaly'].reshape(-1,1))\n",
    "\n",
    "# # avg temp\n",
    "# scaler.fit(train_data['t_avg'].reshape(-1,1))\n",
    "# train_data['t_avg'] = scaler.transform(train_data['t_avg'].reshape(-1,1))\n",
    "\n",
    "# # precipitation deviations\n",
    "# pcp_anomaly = scaler.fit_transform(train_data['pcp_anomaly'].values.reshape(-1,1))\n",
    "# train_data['pcp_anomaly'] = pcp_anomaly\n",
    "\n",
    "# # precipitation\n",
    "# scaler.fit(train_data['precipitate'].reshape(-1,1))\n",
    "# train_data['precipitate'] = scaler.transform(train_data['precipitate'].reshape(-1,1))\n",
    "\n",
    "from sklearn.preprocessing import MinMaxScaler\n",
    "\n",
    "scaler = MinMaxScaler()\n",
    "\n",
    "# avg temp deviations\n",
    "scaler.fit(result['tavg_anomaly'].to_numpy().reshape(-1, 1))\n",
    "result['tavg_anomaly'] = scaler.transform(result['tavg_anomaly'].to_numpy().reshape(-1, 1))\n",
    "\n",
    "# avg temp\n",
    "scaler.fit(result['t_avg'].to_numpy().reshape(-1, 1))\n",
    "result['t_avg'] = scaler.transform(result['t_avg'].to_numpy().reshape(-1, 1))\n",
    "\n",
    "# precipitation deviations\n",
    "pcp_anomaly = scaler.fit_transform(result['pcp_anomaly'].to_numpy().reshape(-1, 1))\n",
    "result['pcp_anomaly'] = pcp_anomaly\n",
    "\n",
    "# precipitation\n",
    "scaler.fit(result['precipitate'].to_numpy().reshape(-1, 1))\n",
    "result['precipitate'] = scaler.transform(result['precipitate'].to_numpy().reshape(-1, 1))\n"
   ]
  },
  {
   "cell_type": "code",
   "execution_count": 211,
   "metadata": {},
   "outputs": [
    {
     "data": {
      "text/html": [
       "<div>\n",
       "<style scoped>\n",
       "    .dataframe tbody tr th:only-of-type {\n",
       "        vertical-align: middle;\n",
       "    }\n",
       "\n",
       "    .dataframe tbody tr th {\n",
       "        vertical-align: top;\n",
       "    }\n",
       "\n",
       "    .dataframe thead th {\n",
       "        text-align: right;\n",
       "    }\n",
       "</style>\n",
       "<table border=\"1\" class=\"dataframe\">\n",
       "  <thead>\n",
       "    <tr style=\"text-align: right;\">\n",
       "      <th></th>\n",
       "      <th>week</th>\n",
       "      <th>state</th>\n",
       "      <th>state_name</th>\n",
       "      <th>disease</th>\n",
       "      <th>cases</th>\n",
       "      <th>incidence_per_capita</th>\n",
       "      <th>LastDayWeek</th>\n",
       "      <th>MonthMax</th>\n",
       "      <th>Year</th>\n",
       "      <th>MonthName</th>\n",
       "      <th>t_avg</th>\n",
       "      <th>tavg_anomaly</th>\n",
       "    </tr>\n",
       "  </thead>\n",
       "  <tbody>\n",
       "    <tr>\n",
       "      <th>0</th>\n",
       "      <td>196604</td>\n",
       "      <td>AL</td>\n",
       "      <td>alabama</td>\n",
       "      <td>HEPATITIS A</td>\n",
       "      <td>4</td>\n",
       "      <td>0.12</td>\n",
       "      <td>1966-01-22</td>\n",
       "      <td>1</td>\n",
       "      <td>1966</td>\n",
       "      <td>January</td>\n",
       "      <td>50.8</td>\n",
       "      <td>-2.0</td>\n",
       "    </tr>\n",
       "    <tr>\n",
       "      <th>1</th>\n",
       "      <td>196604</td>\n",
       "      <td>AL</td>\n",
       "      <td>alabama</td>\n",
       "      <td>MEASLES</td>\n",
       "      <td>19</td>\n",
       "      <td>0.55</td>\n",
       "      <td>1966-01-22</td>\n",
       "      <td>1</td>\n",
       "      <td>1966</td>\n",
       "      <td>January</td>\n",
       "      <td>50.8</td>\n",
       "      <td>-2.0</td>\n",
       "    </tr>\n",
       "    <tr>\n",
       "      <th>2</th>\n",
       "      <td>196604</td>\n",
       "      <td>AZ</td>\n",
       "      <td>arizona</td>\n",
       "      <td>HEPATITIS A</td>\n",
       "      <td>18</td>\n",
       "      <td>1.12</td>\n",
       "      <td>1966-01-22</td>\n",
       "      <td>1</td>\n",
       "      <td>1966</td>\n",
       "      <td>January</td>\n",
       "      <td>46.6</td>\n",
       "      <td>-1.3</td>\n",
       "    </tr>\n",
       "    <tr>\n",
       "      <th>3</th>\n",
       "      <td>196604</td>\n",
       "      <td>AZ</td>\n",
       "      <td>arizona</td>\n",
       "      <td>MEASLES</td>\n",
       "      <td>94</td>\n",
       "      <td>5.82</td>\n",
       "      <td>1966-01-22</td>\n",
       "      <td>1</td>\n",
       "      <td>1966</td>\n",
       "      <td>January</td>\n",
       "      <td>46.6</td>\n",
       "      <td>-1.3</td>\n",
       "    </tr>\n",
       "    <tr>\n",
       "      <th>4</th>\n",
       "      <td>196604</td>\n",
       "      <td>AZ</td>\n",
       "      <td>arizona</td>\n",
       "      <td>RUBELLA</td>\n",
       "      <td>37</td>\n",
       "      <td>2.29</td>\n",
       "      <td>1966-01-22</td>\n",
       "      <td>1</td>\n",
       "      <td>1966</td>\n",
       "      <td>January</td>\n",
       "      <td>46.6</td>\n",
       "      <td>-1.3</td>\n",
       "    </tr>\n",
       "  </tbody>\n",
       "</table>\n",
       "</div>"
      ],
      "text/plain": [
       "     week state state_name      disease  cases  incidence_per_capita  \\\n",
       "0  196604    AL    alabama  HEPATITIS A      4                  0.12   \n",
       "1  196604    AL    alabama      MEASLES     19                  0.55   \n",
       "2  196604    AZ    arizona  HEPATITIS A     18                  1.12   \n",
       "3  196604    AZ    arizona      MEASLES     94                  5.82   \n",
       "4  196604    AZ    arizona      RUBELLA     37                  2.29   \n",
       "\n",
       "  LastDayWeek  MonthMax  Year MonthName  t_avg  tavg_anomaly  \n",
       "0  1966-01-22         1  1966   January   50.8          -2.0  \n",
       "1  1966-01-22         1  1966   January   50.8          -2.0  \n",
       "2  1966-01-22         1  1966   January   46.6          -1.3  \n",
       "3  1966-01-22         1  1966   January   46.6          -1.3  \n",
       "4  1966-01-22         1  1966   January   46.6          -1.3  "
      ]
     },
     "execution_count": 211,
     "metadata": {},
     "output_type": "execute_result"
    }
   ],
   "source": [
    "# examining the main dataset \n",
    "\n",
    "train_data.head()"
   ]
  },
  {
   "cell_type": "code",
   "execution_count": 212,
   "metadata": {
    "collapsed": true
   },
   "outputs": [],
   "source": [
    "# save this primary dataset for future purposes\n",
    "\n",
    "result.to_csv('result.csv',index=False)"
   ]
  },
  {
   "cell_type": "code",
   "execution_count": 213,
   "metadata": {},
   "outputs": [],
   "source": [
    "# save the dataset in current working dataframe\n",
    "train_data = result"
   ]
  },
  {
   "cell_type": "code",
   "execution_count": 214,
   "metadata": {
    "collapsed": true
   },
   "outputs": [
    {
     "data": {
      "text/plain": [
       "'\\nuncomment the line below when needed,\\nno need to perform above steps once you reach this step\\n\\n'"
      ]
     },
     "execution_count": 214,
     "metadata": {},
     "output_type": "execute_result"
    }
   ],
   "source": [
    "# load this dataset for future purposes\n",
    "'''\n",
    "uncomment the line below when needed,\n",
    "no need to perform above steps once you reach this step\n",
    "\n",
    "'''\n",
    "\n",
    "#train_data = pd.read_csv('result.csv')"
   ]
  },
  {
   "attachments": {},
   "cell_type": "markdown",
   "metadata": {},
   "source": [
    "## Load the dataset"
   ]
  },
  {
   "cell_type": "code",
   "execution_count": 215,
   "metadata": {
    "collapsed": true
   },
   "outputs": [],
   "source": [
    "# load the working dataset for future purposes (no need to do the above steps)\n",
    "\n",
    "train_data = pd.read_csv('result.csv')"
   ]
  },
  {
   "cell_type": "code",
   "execution_count": 216,
   "metadata": {},
   "outputs": [
    {
     "data": {
      "text/html": [
       "<div>\n",
       "<style scoped>\n",
       "    .dataframe tbody tr th:only-of-type {\n",
       "        vertical-align: middle;\n",
       "    }\n",
       "\n",
       "    .dataframe tbody tr th {\n",
       "        vertical-align: top;\n",
       "    }\n",
       "\n",
       "    .dataframe thead th {\n",
       "        text-align: right;\n",
       "    }\n",
       "</style>\n",
       "<table border=\"1\" class=\"dataframe\">\n",
       "  <thead>\n",
       "    <tr style=\"text-align: right;\">\n",
       "      <th></th>\n",
       "      <th>week</th>\n",
       "      <th>state</th>\n",
       "      <th>state_name</th>\n",
       "      <th>disease</th>\n",
       "      <th>cases</th>\n",
       "      <th>incidence_per_capita</th>\n",
       "      <th>LastDayWeek</th>\n",
       "      <th>MonthMax</th>\n",
       "      <th>Year</th>\n",
       "      <th>MonthName</th>\n",
       "      <th>t_avg</th>\n",
       "      <th>tavg_anomaly</th>\n",
       "      <th>precipitate</th>\n",
       "      <th>pcp_anomaly</th>\n",
       "    </tr>\n",
       "  </thead>\n",
       "  <tbody>\n",
       "    <tr>\n",
       "      <th>0</th>\n",
       "      <td>196604</td>\n",
       "      <td>IA</td>\n",
       "      <td>iowa</td>\n",
       "      <td>HEPATITIS A</td>\n",
       "      <td>2</td>\n",
       "      <td>0.07</td>\n",
       "      <td>1966-01-22</td>\n",
       "      <td>1</td>\n",
       "      <td>1966</td>\n",
       "      <td>January</td>\n",
       "      <td>0.360759</td>\n",
       "      <td>0.385417</td>\n",
       "      <td>0.131983</td>\n",
       "      <td>0.221799</td>\n",
       "    </tr>\n",
       "    <tr>\n",
       "      <th>1</th>\n",
       "      <td>196604</td>\n",
       "      <td>IA</td>\n",
       "      <td>iowa</td>\n",
       "      <td>MEASLES</td>\n",
       "      <td>89</td>\n",
       "      <td>3.22</td>\n",
       "      <td>1966-01-22</td>\n",
       "      <td>1</td>\n",
       "      <td>1966</td>\n",
       "      <td>January</td>\n",
       "      <td>0.360759</td>\n",
       "      <td>0.385417</td>\n",
       "      <td>0.131983</td>\n",
       "      <td>0.221799</td>\n",
       "    </tr>\n",
       "    <tr>\n",
       "      <th>2</th>\n",
       "      <td>196604</td>\n",
       "      <td>IA</td>\n",
       "      <td>iowa</td>\n",
       "      <td>RUBELLA</td>\n",
       "      <td>32</td>\n",
       "      <td>1.16</td>\n",
       "      <td>1966-01-22</td>\n",
       "      <td>1</td>\n",
       "      <td>1966</td>\n",
       "      <td>January</td>\n",
       "      <td>0.360759</td>\n",
       "      <td>0.385417</td>\n",
       "      <td>0.131983</td>\n",
       "      <td>0.221799</td>\n",
       "    </tr>\n",
       "    <tr>\n",
       "      <th>3</th>\n",
       "      <td>196604</td>\n",
       "      <td>ID</td>\n",
       "      <td>idaho</td>\n",
       "      <td>HEPATITIS A</td>\n",
       "      <td>1</td>\n",
       "      <td>0.15</td>\n",
       "      <td>1966-01-22</td>\n",
       "      <td>1</td>\n",
       "      <td>1966</td>\n",
       "      <td>January</td>\n",
       "      <td>0.394515</td>\n",
       "      <td>0.484375</td>\n",
       "      <td>0.063547</td>\n",
       "      <td>0.226372</td>\n",
       "    </tr>\n",
       "    <tr>\n",
       "      <th>4</th>\n",
       "      <td>196604</td>\n",
       "      <td>ID</td>\n",
       "      <td>idaho</td>\n",
       "      <td>MEASLES</td>\n",
       "      <td>58</td>\n",
       "      <td>8.42</td>\n",
       "      <td>1966-01-22</td>\n",
       "      <td>1</td>\n",
       "      <td>1966</td>\n",
       "      <td>January</td>\n",
       "      <td>0.394515</td>\n",
       "      <td>0.484375</td>\n",
       "      <td>0.063547</td>\n",
       "      <td>0.226372</td>\n",
       "    </tr>\n",
       "  </tbody>\n",
       "</table>\n",
       "</div>"
      ],
      "text/plain": [
       "     week state state_name      disease  cases  incidence_per_capita  \\\n",
       "0  196604    IA       iowa  HEPATITIS A      2                  0.07   \n",
       "1  196604    IA       iowa      MEASLES     89                  3.22   \n",
       "2  196604    IA       iowa      RUBELLA     32                  1.16   \n",
       "3  196604    ID      idaho  HEPATITIS A      1                  0.15   \n",
       "4  196604    ID      idaho      MEASLES     58                  8.42   \n",
       "\n",
       "  LastDayWeek  MonthMax  Year MonthName     t_avg  tavg_anomaly  precipitate  \\\n",
       "0  1966-01-22         1  1966   January  0.360759      0.385417     0.131983   \n",
       "1  1966-01-22         1  1966   January  0.360759      0.385417     0.131983   \n",
       "2  1966-01-22         1  1966   January  0.360759      0.385417     0.131983   \n",
       "3  1966-01-22         1  1966   January  0.394515      0.484375     0.063547   \n",
       "4  1966-01-22         1  1966   January  0.394515      0.484375     0.063547   \n",
       "\n",
       "   pcp_anomaly  \n",
       "0     0.221799  \n",
       "1     0.221799  \n",
       "2     0.221799  \n",
       "3     0.226372  \n",
       "4     0.226372  "
      ]
     },
     "execution_count": 216,
     "metadata": {},
     "output_type": "execute_result"
    }
   ],
   "source": [
    "# examining the dataset \n",
    "train_data.head()"
   ]
  },
  {
   "cell_type": "code",
   "execution_count": 217,
   "metadata": {
    "scrolled": true
   },
   "outputs": [
    {
     "data": {
      "text/plain": [
       "0"
      ]
     },
     "execution_count": 217,
     "metadata": {},
     "output_type": "execute_result"
    }
   ],
   "source": [
    "# check for any duplicacy in the dataset (0: no duplicates)\n",
    "\n",
    "train_data.duplicated(subset=None, keep='first').sum()"
   ]
  },
  {
   "cell_type": "code",
   "execution_count": 218,
   "metadata": {
    "scrolled": true
   },
   "outputs": [],
   "source": [
    "# remove the useless attributes from the dataset \n",
    "\n",
    "# store unique state_name and diseases for label encoding (dont drop them!)\n",
    "states = np.asarray(train_data.state_name.unique())\n",
    "#dis = np.unique(train_data['disease'].values)\n",
    "\n",
    "week       = train_data.pop('week')\n",
    "LOW        = train_data.pop('LastDayWeek')\n",
    "monthN     = train_data.pop('MonthName')\n",
    "state     = train_data.pop('state')"
   ]
  },
  {
   "cell_type": "code",
   "execution_count": 219,
   "metadata": {
    "scrolled": true
   },
   "outputs": [],
   "source": [
    "# Create test_train splits\n",
    "\n",
    "from sklearn.model_selection import train_test_split as tts\n",
    "\n",
    "y = train_data.pop('disease')\n",
    "train, test, y_train, y_test = tts(train_data, y,test_size = 0.3, shuffle = True)\n"
   ]
  },
  {
   "cell_type": "code",
   "execution_count": 220,
   "metadata": {},
   "outputs": [
    {
     "name": "stdout",
     "output_type": "stream",
     "text": [
      "(2620, 9)\n",
      "(2620,)\n",
      "(1124, 9)\n",
      "(1124,)\n"
     ]
    }
   ],
   "source": [
    "# check dimensions\n",
    "\n",
    "print (train.shape)\n",
    "print (y_train.shape)\n",
    "\n",
    "print (test.shape)\n",
    "print (y_test.shape)"
   ]
  },
  {
   "attachments": {},
   "cell_type": "markdown",
   "metadata": {},
   "source": [
    "## Applying ML"
   ]
  },
  {
   "cell_type": "code",
   "execution_count": 221,
   "metadata": {
    "scrolled": true
   },
   "outputs": [
    {
     "data": {
      "text/html": [
       "<div>\n",
       "<style scoped>\n",
       "    .dataframe tbody tr th:only-of-type {\n",
       "        vertical-align: middle;\n",
       "    }\n",
       "\n",
       "    .dataframe tbody tr th {\n",
       "        vertical-align: top;\n",
       "    }\n",
       "\n",
       "    .dataframe thead th {\n",
       "        text-align: right;\n",
       "    }\n",
       "</style>\n",
       "<table border=\"1\" class=\"dataframe\">\n",
       "  <thead>\n",
       "    <tr style=\"text-align: right;\">\n",
       "      <th></th>\n",
       "      <th>cases</th>\n",
       "      <th>incidence_per_capita</th>\n",
       "      <th>MonthMax</th>\n",
       "      <th>Year</th>\n",
       "      <th>t_avg</th>\n",
       "      <th>tavg_anomaly</th>\n",
       "      <th>precipitate</th>\n",
       "      <th>pcp_anomaly</th>\n",
       "    </tr>\n",
       "  </thead>\n",
       "  <tbody>\n",
       "    <tr>\n",
       "      <th>count</th>\n",
       "      <td>2620.000000</td>\n",
       "      <td>2620.000000</td>\n",
       "      <td>2620.0</td>\n",
       "      <td>2620.000000</td>\n",
       "      <td>2620.000000</td>\n",
       "      <td>2620.000000</td>\n",
       "      <td>2620.000000</td>\n",
       "      <td>2620.000000</td>\n",
       "    </tr>\n",
       "    <tr>\n",
       "      <th>mean</th>\n",
       "      <td>24.599237</td>\n",
       "      <td>0.722439</td>\n",
       "      <td>1.0</td>\n",
       "      <td>1980.652672</td>\n",
       "      <td>0.518154</td>\n",
       "      <td>0.476008</td>\n",
       "      <td>0.217301</td>\n",
       "      <td>0.309302</td>\n",
       "    </tr>\n",
       "    <tr>\n",
       "      <th>std</th>\n",
       "      <td>85.005126</td>\n",
       "      <td>2.646407</td>\n",
       "      <td>0.0</td>\n",
       "      <td>12.527632</td>\n",
       "      <td>0.186433</td>\n",
       "      <td>0.132074</td>\n",
       "      <td>0.119571</td>\n",
       "      <td>0.105335</td>\n",
       "    </tr>\n",
       "    <tr>\n",
       "      <th>min</th>\n",
       "      <td>0.000000</td>\n",
       "      <td>0.000000</td>\n",
       "      <td>1.0</td>\n",
       "      <td>1960.000000</td>\n",
       "      <td>0.000000</td>\n",
       "      <td>0.000000</td>\n",
       "      <td>0.000000</td>\n",
       "      <td>0.000000</td>\n",
       "    </tr>\n",
       "    <tr>\n",
       "      <th>25%</th>\n",
       "      <td>1.000000</td>\n",
       "      <td>0.020000</td>\n",
       "      <td>1.0</td>\n",
       "      <td>1971.000000</td>\n",
       "      <td>0.379747</td>\n",
       "      <td>0.384115</td>\n",
       "      <td>0.132682</td>\n",
       "      <td>0.247523</td>\n",
       "    </tr>\n",
       "    <tr>\n",
       "      <th>50%</th>\n",
       "      <td>3.000000</td>\n",
       "      <td>0.100000</td>\n",
       "      <td>1.0</td>\n",
       "      <td>1978.000000</td>\n",
       "      <td>0.511603</td>\n",
       "      <td>0.473958</td>\n",
       "      <td>0.202165</td>\n",
       "      <td>0.303354</td>\n",
       "    </tr>\n",
       "    <tr>\n",
       "      <th>75%</th>\n",
       "      <td>13.000000</td>\n",
       "      <td>0.400000</td>\n",
       "      <td>1.0</td>\n",
       "      <td>1989.000000</td>\n",
       "      <td>0.626582</td>\n",
       "      <td>0.567708</td>\n",
       "      <td>0.276711</td>\n",
       "      <td>0.360518</td>\n",
       "    </tr>\n",
       "    <tr>\n",
       "      <th>max</th>\n",
       "      <td>1540.000000</td>\n",
       "      <td>56.210000</td>\n",
       "      <td>1.0</td>\n",
       "      <td>2011.000000</td>\n",
       "      <td>1.000000</td>\n",
       "      <td>1.000000</td>\n",
       "      <td>1.000000</td>\n",
       "      <td>1.000000</td>\n",
       "    </tr>\n",
       "  </tbody>\n",
       "</table>\n",
       "</div>"
      ],
      "text/plain": [
       "             cases  incidence_per_capita  MonthMax         Year        t_avg  \\\n",
       "count  2620.000000           2620.000000    2620.0  2620.000000  2620.000000   \n",
       "mean     24.599237              0.722439       1.0  1980.652672     0.518154   \n",
       "std      85.005126              2.646407       0.0    12.527632     0.186433   \n",
       "min       0.000000              0.000000       1.0  1960.000000     0.000000   \n",
       "25%       1.000000              0.020000       1.0  1971.000000     0.379747   \n",
       "50%       3.000000              0.100000       1.0  1978.000000     0.511603   \n",
       "75%      13.000000              0.400000       1.0  1989.000000     0.626582   \n",
       "max    1540.000000             56.210000       1.0  2011.000000     1.000000   \n",
       "\n",
       "       tavg_anomaly  precipitate  pcp_anomaly  \n",
       "count   2620.000000  2620.000000  2620.000000  \n",
       "mean       0.476008     0.217301     0.309302  \n",
       "std        0.132074     0.119571     0.105335  \n",
       "min        0.000000     0.000000     0.000000  \n",
       "25%        0.384115     0.132682     0.247523  \n",
       "50%        0.473958     0.202165     0.303354  \n",
       "75%        0.567708     0.276711     0.360518  \n",
       "max        1.000000     1.000000     1.000000  "
      ]
     },
     "execution_count": 221,
     "metadata": {},
     "output_type": "execute_result"
    }
   ],
   "source": [
    "# examine the test/train data now (uncomment the one you want to examine)\n",
    "\n",
    "train.describe()\n",
    "#test.describe()"
   ]
  },
  {
   "cell_type": "code",
   "execution_count": 222,
   "metadata": {
    "scrolled": true
   },
   "outputs": [],
   "source": [
    "# label encoding of useful non-numerical attributes\n",
    "\n",
    "from sklearn.preprocessing import LabelEncoder\n",
    "\n",
    "le = LabelEncoder()\n",
    "le.fit(y)\n",
    "\n",
    "y_train = le.transform(y_train)\n",
    "y_test = le.transform(y_test)\n",
    "\n",
    "le2 = LabelEncoder()\n",
    "le2.fit(states)\n",
    "\n",
    "train['state_name'] = le2.transform(train.state_name)\n",
    "test['state_name'] = le2.transform(test.state_name)"
   ]
  },
  {
   "cell_type": "code",
   "execution_count": 223,
   "metadata": {},
   "outputs": [
    {
     "data": {
      "text/plain": [
       "state_name                int32\n",
       "cases                     int64\n",
       "incidence_per_capita    float64\n",
       "MonthMax                  int64\n",
       "Year                      int64\n",
       "t_avg                   float64\n",
       "tavg_anomaly            float64\n",
       "precipitate             float64\n",
       "pcp_anomaly             float64\n",
       "dtype: object"
      ]
     },
     "execution_count": 223,
     "metadata": {},
     "output_type": "execute_result"
    }
   ],
   "source": [
    "# check dtypes of each attribute (numst be numerical)\n",
    "\n",
    "test.dtypes"
   ]
  },
  {
   "cell_type": "code",
   "execution_count": 224,
   "metadata": {
    "scrolled": true
   },
   "outputs": [
    {
     "name": "stdout",
     "output_type": "stream",
     "text": [
      "training...%s LR\n",
      "LR\n",
      "testing_accuracy 34.07473309608541\n",
      "training_accuracy 34.61832061068703\n",
      "precision_test:  16.449778455112465\n",
      "f1_score:  13.669619455388544\n",
      "recall_score:  19.70723218785234\n",
      "training...%s KNC\n",
      "KNC\n",
      "testing_accuracy 37.01067615658363\n",
      "training_accuracy 93.85496183206106\n",
      "precision_test:  43.907303250321036\n",
      "f1_score:  44.57764261089776\n",
      "recall_score:  45.36162061553753\n",
      "training...%s SVC\n",
      "SVC\n",
      "testing_accuracy 33.362989323843415\n",
      "training_accuracy 33.01526717557252\n",
      "precision_test:  19.623305526590194\n",
      "f1_score:  11.37787561038732\n",
      "recall_score:  18.527131782945737\n",
      "training...%s QDA\n",
      "QDA\n",
      "testing_accuracy 28.647686832740217\n",
      "training_accuracy 27.709923664122137\n",
      "precision_test:  34.424487548301954\n",
      "f1_score:  30.491989427314376\n",
      "recall_score:  36.780262855025384\n",
      "training...%s RFC\n",
      "RFC\n",
      "testing_accuracy 30.693950177935942\n",
      "training_accuracy 91.5648854961832\n",
      "precision_test:  36.31141121395914\n",
      "f1_score:  33.05929831706758\n",
      "recall_score:  31.396349260199024\n",
      "training...%s ADC\n",
      "ADC\n",
      "testing_accuracy 37.63345195729537\n",
      "training_accuracy 37.32824427480916\n",
      "precision_test:  31.150980582195615\n",
      "f1_score:  29.068028537322327\n",
      "recall_score:  28.54376874869014\n",
      "training...%s SGDC\n",
      "SGDC\n",
      "testing_accuracy 33.89679715302491\n",
      "training_accuracy 33.74045801526718\n",
      "precision_test:  17.89667896678967\n",
      "f1_score:  12.074878731980597\n",
      "recall_score:  18.992248062015506\n",
      "training...%s DTC\n",
      "DTC\n",
      "testing_accuracy 50.5338078291815\n",
      "training_accuracy 50.61068702290077\n",
      "precision_test:  61.173509633477266\n",
      "f1_score:  51.7222355388586\n",
      "recall_score:  50.48176950984299\n",
      "training...%s LDA\n",
      "LDA\n",
      "testing_accuracy 38.52313167259786\n",
      "training_accuracy 35.038167938931295\n",
      "precision_test:  29.252280879160576\n",
      "f1_score:  27.915006167920627\n",
      "recall_score:  29.411969930790217\n",
      "training...%s MNB\n",
      "MNB\n",
      "testing_accuracy 31.672597864768683\n",
      "training_accuracy 30.229007633587784\n",
      "precision_test:  24.27899912545014\n",
      "f1_score:  21.681990447106728\n",
      "recall_score:  26.28684533238797\n"
     ]
    }
   ],
   "source": [
    "#model training (try to load few classifiers for examining performance and chose the best)\n",
    "\n",
    "from sklearn.linear_model import SGDClassifier, LogisticRegression\n",
    "from sklearn.naive_bayes import MultinomialNB as MNB\n",
    "from sklearn.neighbors import KNeighborsClassifier\n",
    "from sklearn.svm import SVC\n",
    "from sklearn.tree import DecisionTreeClassifier\n",
    "from sklearn.ensemble import RandomForestClassifier, AdaBoostClassifier\n",
    "from sklearn.discriminant_analysis import QuadraticDiscriminantAnalysis, LinearDiscriminantAnalysis\n",
    "\n",
    "from sklearn.metrics import accuracy_score, precision_score, recall_score, f1_score\n",
    "\n",
    "classifiers=[\n",
    "    (LogisticRegression(penalty='l2'),\"LR\"),\n",
    "    (KNeighborsClassifier(n_neighbors=3, weights='distance', algorithm = 'auto'),\"KNC\"),\n",
    "    (SVC(),'SVC'),\n",
    "    (QuadraticDiscriminantAnalysis(),'QDA'),\n",
    "    (RandomForestClassifier(max_depth=50, n_estimators=10, max_features=1),'RFC'),\n",
    "    (AdaBoostClassifier(),'ADC'),\n",
    "    (SGDClassifier(),'SGDC'),\n",
    "    (DecisionTreeClassifier(max_depth=5),'DTC'),\n",
    "    (LinearDiscriminantAnalysis(),'LDA'),\n",
    "    (MNB(), 'MNB')\n",
    "]\n",
    "\n",
    "eval_ =[]\n",
    "train_acc, test_acc, name = [], [], []\n",
    "f1_, rec_, prec_ = [], [], []\n",
    "for clf in classifiers:\n",
    "    print (\"training...%s\",clf[1])\n",
    "    clf[0].fit(train, y_train)\n",
    "    y_preds = clf[0].predict(test)\n",
    "    y_preds_train = clf[0].predict(train)\n",
    "    name.append(clf[1])\n",
    "    train_acc.append( accuracy_score(y_train, y_preds_train)*100 )\n",
    "    test_acc.append( accuracy_score(y_test, y_preds)*100 )\n",
    "    f1_.append( f1_score(y_test, y_preds, average='macro')*100 )\n",
    "    rec_.append( recall_score(y_test, y_preds, average='macro')*100 )\n",
    "    prec_.append( precision_score(y_test, y_preds, average='macro')*100 )\n",
    "    print (clf[1])\n",
    "    print (\"testing_accuracy\", accuracy_score(y_test, y_preds)*100)\n",
    "    print (\"training_accuracy\", accuracy_score(y_train, y_preds_train)*100)\n",
    "    print (\"precision_test: \", precision_score(y_test, y_preds, average='macro')*100)\n",
    "    print (\"f1_score: \", f1_score(y_test, y_preds, average='macro')*100)\n",
    "    print (\"recall_score: \", recall_score(y_test, y_preds, average='macro')*100)\n",
    "eval_.append(train_acc)\n",
    "eval_.append(test_acc)\n",
    "eval_.append(f1_)\n",
    "eval_.append(rec_)\n",
    "eval_.append(prec_)"
   ]
  },
  {
   "cell_type": "code",
   "execution_count": 225,
   "metadata": {
    "scrolled": true
   },
   "outputs": [
    {
     "data": {
      "image/png": "[encoded data removed]",
      "text/plain": [
       "<Figure size 640x480 with 1 Axes>"
      ]
     },
     "metadata": {},
     "output_type": "display_data"
    },
    {
     "data": {
      "image/png": "[encoded data removed]",
      "text/plain": [
       "<Figure size 640x480 with 1 Axes>"
      ]
     },
     "metadata": {},
     "output_type": "display_data"
    },
    {
     "data": {
      "image/png": "[encoded data removed]",
      "text/plain": [
       "<Figure size 640x480 with 1 Axes>"
      ]
     },
     "metadata": {},
     "output_type": "display_data"
    },
    {
     "data": {
      "image/png": "[encoded data removed]",
      "text/plain": [
       "<Figure size 640x480 with 1 Axes>"
      ]
     },
     "metadata": {},
     "output_type": "display_data"
    },
    {
     "data": {
      "image/png": "[encoded data removed]",
      "text/plain": [
       "<Figure size 640x480 with 1 Axes>"
      ]
     },
     "metadata": {},
     "output_type": "display_data"
    }
   ],
   "source": [
    "from matplotlib import pyplot as plt\n",
    "\n",
    "titles = ['train_accuracy', 'test_accuracy', 'f1_score', 'recall', 'precision']\n",
    "\n",
    "for i in range(len(eval_)):\n",
    "    fig = plt.figure()\n",
    "    ax = fig.add_subplot(111)\n",
    "    A = eval_[i][:]\n",
    "    plt.title(titles[i])\n",
    "    plt.plot(A)\n",
    "    for j, label in enumerate(name):\n",
    "        plt.text(j,A[j], label) \n",
    "    plt.show()"
   ]
  },
  {
   "attachments": {},
   "cell_type": "markdown",
   "metadata": {},
   "source": [
    "## Visualisations\n",
    "\n",
    "We try to visualize the number of cases of disease outbreak in every state for all states of U.S.for a particular year given as an input in range **1960 - 2011**<br>\n",
    "\n"
   ]
  },
  {
   "cell_type": "code",
   "execution_count": 226,
   "metadata": {
    "collapsed": true
   },
   "outputs": [],
   "source": [
    "# using plotly for the beautiful plots \n",
    "\n",
    "# import plotly.plotly as py\n",
    "# import plotly\n",
    "# import pandas as pd\n",
    "\n",
    "# login api for plotly (dont forget to sign up to plotly)\n",
    "# plotly.tools.set_credentials_file(username= 'ab-bh', api_key ='KeUFpD51Wy55BOfM9Czx')"
   ]
  },
  {
   "cell_type": "code",
   "execution_count": 237,
   "metadata": {
    "collapsed": true
   },
   "outputs": [],
   "source": [
    "# for UI\n",
    "\n",
    "import pandas as pd \n",
    "import numpy as np\n",
    "import plotly.offline as py\n",
    "\n",
    "def get_viz(the_yr_data, yr):\n",
    "    py.init_notebook_mode(connected=True)\n",
    "\n",
    "\n",
    "    for col in the_yr_data.columns:\n",
    "        the_yr_data[col] = the_yr_data[col].astype(str)\n",
    "\n",
    "    scl = [[0.0, 'rgb(242,240,247)'],[0.2, 'rgb(218,218,235)'],[0.4, 'rgb(188,189,220)'],\\\n",
    "                [0.6, 'rgb(158,154,200)'],[0.8, 'rgb(117,107,177)'],[1.0, 'rgb(84,39,143)']]\n",
    "    scl = [\n",
    "            # Let first 10% (0.1) of the values have color rgb(0, 0, 0)\n",
    "            [0, 'rgb(0, 0, 0)'],\n",
    "            [0.1, 'rgb(0, 0, 0)'],\n",
    "\n",
    "            # Let values between 10-20% of the min and max of z\n",
    "            # have color rgb(20, 20, 20)\n",
    "            [0.1, 'rgb(20, 20, 20)'],\n",
    "            [0.2, 'rgb(20, 20, 20)'],\n",
    "\n",
    "            # Values between 20-30% of the min and max of z\n",
    "            # have color rgb(40, 40, 40)\n",
    "            [0.2, 'rgb(40, 40, 40)'],\n",
    "            [0.3, 'rgb(40, 40, 40)'],\n",
    "\n",
    "            [0.3, 'rgb(60, 60, 60)'],\n",
    "            [0.4, 'rgb(60, 60, 60)'],\n",
    "\n",
    "            [0.4, 'rgb(80, 80, 80)'],\n",
    "            [0.5, 'rgb(80, 80, 80)'],\n",
    "\n",
    "            [0.5, 'rgb(100, 100, 100)'],\n",
    "            [0.6, 'rgb(100, 100, 100)'],\n",
    "\n",
    "            [0.6, 'rgb(120, 120, 120)'],\n",
    "            [0.7, 'rgb(120, 120, 120)'],\n",
    "\n",
    "            [0.7, 'rgb(140, 140, 140)'],\n",
    "            [0.8, 'rgb(140, 140, 140)'],\n",
    "\n",
    "            [0.8, 'rgb(160, 160, 160)'],\n",
    "            [0.9, 'rgb(160, 160, 160)'],\n",
    "\n",
    "            [0.9, 'rgb(180, 180, 180)'],\n",
    "            [1.0, 'rgb(180, 180, 180)']\n",
    "        ]\n",
    "    data = [ dict(\n",
    "            type='choropleth',\n",
    "            colorscale = scl,\n",
    "            autocolorscale = True,\n",
    "            locations = the_yr_data['state'],\n",
    "            z = the_yr_data['cases'].astype(float),\n",
    "            zmin=0,\n",
    "            zmax=500,\n",
    "            locationmode = 'USA-states',\n",
    "            text = the_yr_data['text'],\n",
    "            marker = dict(\n",
    "                line = dict (\n",
    "                    color = 'rgb(255,255,255)',\n",
    "                    width = 2\n",
    "                )\n",
    "            ),\n",
    "            colorbar = dict(\n",
    "                title = \"Disease outbreak - cases in %d\" %(yr)\n",
    "            )\n",
    "        ) ]\n",
    "\n",
    "    layout = dict(\n",
    "        title = '%d US Diseases Cases Found by State<br>(Hover for breakdown)' %(yr),\n",
    "        geo = dict(\n",
    "            scope='usa',\n",
    "            projection=dict( type='albers usa' ),\n",
    "            showlakes = True,\n",
    "            lakecolor = 'rgb(255, 255, 255)',\n",
    "            ),\n",
    "    )\n",
    "\n",
    "    fig = dict( data=data, layout=layout )\n",
    "\n",
    "    url = py.iplot( fig, validate=False)\n",
    "\n",
    "def get_1yr_viz(yr):\n",
    "    data = pd.read_csv('for_visulisation.csv')\n",
    "    the_yr_data = data.loc[data['Year'] ==yr]\n",
    "    from collections import defaultdict\n",
    "    har = defaultdict(set)\n",
    "    a = list(the_yr_data.state_name)\n",
    "    b = list(the_yr_data.disease)\n",
    "    #print len(a),len(b)\n",
    "    for i in range(len(a)):\n",
    "        har[a[i]].add(b[i])\n",
    "    \n",
    "    the_yr_data['disease_all'] = [' '.join(list(har[i])) for i in the_yr_data.state_name]\n",
    "    \n",
    "    the_yr_data['text'] = the_yr_data['state_name'] + '<br>' +\\\n",
    "    'Disease '+the_yr_data['disease_all']\n",
    "    \n",
    "    tf = the_yr_data.filter(['state_name','state','cases'], axis=1)\n",
    "    tf.cases = tf.cases.astype(int)\n",
    "    the_yr_data_2 = tf.groupby(['state_name','state']).sum().reset_index()\n",
    "    the_yr_data_2['disease_all'] = [' '.join(list(har[i])) for i in the_yr_data_2.state_name]\n",
    "    the_yr_data_2['text'] = the_yr_data_2['state_name'] + '<br>' +\\\n",
    "    'Disease '+the_yr_data_2['disease_all']\n",
    "    \n",
    "    get_viz(the_yr_data_2, yr)"
   ]
  },
  {
   "cell_type": "code",
   "execution_count": 238,
   "metadata": {},
   "outputs": [
    {
     "data": {
      "text/html": [
       "        <script type=\"text/javascript\">\n",
       "        window.PlotlyConfig = {MathJaxConfig: 'local'};\n",
       "        if (window.MathJax && window.MathJax.Hub && window.MathJax.Hub.Config) {window.MathJax.Hub.Config({SVG: {font: \"STIX-Web\"}});}\n",
       "        if (typeof require !== 'undefined') {\n",
       "        require.undef(\"plotly\");\n",
       "        requirejs.config({\n",
       "            paths: {\n",
       "                'plotly': ['https://cdn.plot.ly/plotly-2.12.1.min']\n",
       "            }\n",
       "        });\n",
       "        require(['plotly'], function(Plotly) {\n",
       "            window._Plotly = Plotly;\n",
       "        });\n",
       "        }\n",
       "        </script>\n",
       "        "
      ]
     },
     "metadata": {},
     "output_type": "display_data"
    },
    {
     "data": {
      "application/vnd.plotly.v1+json": {
       "config": {
        "linkText": "Export to plot.ly",
        "plotlyServerURL": "https://plot.ly",
        "showLink": false
       },
       "data": [
        {
         "autocolorscale": true,
         "colorbar": {
          "title": "Disease outbreak - cases in 2011"
         },
         "colorscale": [
          [
           0,
           "rgb(0, 0, 0)"
          ],
          [
           0.1,
           "rgb(0, 0, 0)"
          ],
          [
           0.1,
           "rgb(20, 20, 20)"
          ],
          [
           0.2,
           "rgb(20, 20, 20)"
          ],
          [
           0.2,
           "rgb(40, 40, 40)"
          ],
          [
           0.3,
           "rgb(40, 40, 40)"
          ],
          [
           0.3,
           "rgb(60, 60, 60)"
          ],
          [
           0.4,
           "rgb(60, 60, 60)"
          ],
          [
           0.4,
           "rgb(80, 80, 80)"
          ],
          [
           0.5,
           "rgb(80, 80, 80)"
          ],
          [
           0.5,
           "rgb(100, 100, 100)"
          ],
          [
           0.6,
           "rgb(100, 100, 100)"
          ],
          [
           0.6,
           "rgb(120, 120, 120)"
          ],
          [
           0.7,
           "rgb(120, 120, 120)"
          ],
          [
           0.7,
           "rgb(140, 140, 140)"
          ],
          [
           0.8,
           "rgb(140, 140, 140)"
          ],
          [
           0.8,
           "rgb(160, 160, 160)"
          ],
          [
           0.9,
           "rgb(160, 160, 160)"
          ],
          [
           0.9,
           "rgb(180, 180, 180)"
          ],
          [
           1,
           "rgb(180, 180, 180)"
          ]
         ],
         "locationmode": "USA-states",
         "locations": [
          "AL",
          "AK",
          "AZ",
          "AR",
          "CA",
          "CO",
          "CT",
          "DE",
          "DC",
          "FL",
          "GA",
          "HI",
          "ID",
          "IL",
          "IN",
          "IA",
          "KS",
          "KY",
          "LA",
          "ME",
          "MD",
          "MA",
          "MI",
          "MN",
          "MS",
          "MO",
          "MT",
          "NE",
          "NV",
          "NH",
          "NJ",
          "NM",
          "NY",
          "NC",
          "ND",
          "OH",
          "OK",
          "OR",
          "PA",
          "RI",
          "SC",
          "SD",
          "TN",
          "TX",
          "UT",
          "VT",
          "VA",
          "WA",
          "WV",
          "WI",
          "WY"
         ],
         "marker": {
          "line": {
           "color": "rgb(255,255,255)",
           "width": 2
          }
         },
         "text": [
          "ALABAMA<br>Disease PERTUSSIS HEPATITIS A",
          "ALASKA<br>Disease PERTUSSIS HEPATITIS A",
          "ARIZONA<br>Disease PERTUSSIS HEPATITIS A",
          "ARKANSAS<br>Disease PERTUSSIS HEPATITIS A",
          "CALIFORNIA<br>Disease PERTUSSIS HEPATITIS A",
          "COLORADO<br>Disease PERTUSSIS HEPATITIS A",
          "CONNECTICUT<br>Disease PERTUSSIS HEPATITIS A",
          "DELAWARE<br>Disease PERTUSSIS HEPATITIS A",
          "DISTRICT OF COLUMBIA<br>Disease PERTUSSIS",
          "FLORIDA<br>Disease PERTUSSIS HEPATITIS A",
          "GEORGIA<br>Disease PERTUSSIS HEPATITIS A",
          "HAWAII<br>Disease PERTUSSIS HEPATITIS A",
          "IDAHO<br>Disease PERTUSSIS HEPATITIS A",
          "ILLINOIS<br>Disease PERTUSSIS HEPATITIS A",
          "INDIANA<br>Disease PERTUSSIS HEPATITIS A",
          "IOWA<br>Disease PERTUSSIS HEPATITIS A",
          "KANSAS<br>Disease PERTUSSIS HEPATITIS A",
          "KENTUCKY<br>Disease PERTUSSIS HEPATITIS A",
          "LOUISIANA<br>Disease PERTUSSIS HEPATITIS A",
          "MAINE<br>Disease PERTUSSIS HEPATITIS A",
          "MARYLAND<br>Disease PERTUSSIS HEPATITIS A",
          "MASSACHUSETTS<br>Disease PERTUSSIS HEPATITIS A",
          "MICHIGAN<br>Disease PERTUSSIS HEPATITIS A",
          "MINNESOTA<br>Disease PERTUSSIS HEPATITIS A",
          "MISSISSIPPI<br>Disease PERTUSSIS HEPATITIS A",
          "MISSOURI<br>Disease PERTUSSIS HEPATITIS A",
          "MONTANA<br>Disease PERTUSSIS HEPATITIS A",
          "NEBRASKA<br>Disease PERTUSSIS HEPATITIS A",
          "NEVADA<br>Disease PERTUSSIS HEPATITIS A",
          "NEW HAMPSHIRE<br>Disease PERTUSSIS",
          "NEW JERSEY<br>Disease PERTUSSIS HEPATITIS A",
          "NEW MEXICO<br>Disease PERTUSSIS HEPATITIS A",
          "NEW YORK<br>Disease PERTUSSIS HEPATITIS A",
          "NORTH CAROLINA<br>Disease PERTUSSIS HEPATITIS A",
          "NORTH DAKOTA<br>Disease PERTUSSIS",
          "OHIO<br>Disease PERTUSSIS HEPATITIS A",
          "OKLAHOMA<br>Disease PERTUSSIS HEPATITIS A",
          "OREGON<br>Disease PERTUSSIS HEPATITIS A",
          "PENNSYLVANIA<br>Disease PERTUSSIS HEPATITIS A",
          "RHODE ISLAND<br>Disease PERTUSSIS HEPATITIS A",
          "SOUTH CAROLINA<br>Disease PERTUSSIS HEPATITIS A",
          "SOUTH DAKOTA<br>Disease PERTUSSIS HEPATITIS A",
          "TENNESSEE<br>Disease PERTUSSIS HEPATITIS A",
          "TEXAS<br>Disease PERTUSSIS HEPATITIS A",
          "UTAH<br>Disease PERTUSSIS HEPATITIS A",
          "VERMONT<br>Disease PERTUSSIS HEPATITIS A",
          "VIRGINIA<br>Disease PERTUSSIS HEPATITIS A",
          "WASHINGTON<br>Disease PERTUSSIS HEPATITIS A",
          "WEST VIRGINIA<br>Disease PERTUSSIS HEPATITIS A",
          "WISCONSIN<br>Disease PERTUSSIS HEPATITIS A",
          "WYOMING<br>Disease PERTUSSIS HEPATITIS A"
         ],
         "type": "choropleth",
         "z": [
          113,
          28,
          285,
          50,
          1321,
          486,
          59,
          22,
          5,
          419,
          114,
          72,
          150,
          995,
          299,
          214,
          139,
          83,
          18,
          112,
          110,
          127,
          281,
          299,
          46,
          255,
          120,
          60,
          34,
          111,
          223,
          182,
          1022,
          189,
          59,
          790,
          46,
          186,
          511,
          20,
          105,
          30,
          105,
          613,
          286,
          47,
          197,
          759,
          41,
          356,
          8
         ],
         "zmax": 500,
         "zmin": 0
        }
       ],
       "layout": {
        "geo": {
         "lakecolor": "rgb(255, 255, 255)",
         "projection": {
          "type": "albers usa"
         },
         "scope": "usa",
         "showlakes": true
        },
        "title": "2011 US Diseases Cases Found by State<br>(Hover for breakdown)"
       }
      },
      "text/html": [
       "<div>                            <div id=\"d1e9dbc0-6815-43f0-a27b-c7e8f82d9cfd\" class=\"plotly-graph-div\" style=\"height:525px; width:100%;\"></div>            <script type=\"text/javascript\">                require([\"plotly\"], function(Plotly) {                    window.PLOTLYENV=window.PLOTLYENV || {};                                    if (document.getElementById(\"d1e9dbc0-6815-43f0-a27b-c7e8f82d9cfd\")) {                    Plotly.newPlot(                        \"d1e9dbc0-6815-43f0-a27b-c7e8f82d9cfd\",                        [{\"type\":\"choropleth\",\"colorscale\":[[0,\"rgb(0, 0, 0)\"],[0.1,\"rgb(0, 0, 0)\"],[0.1,\"rgb(20, 20, 20)\"],[0.2,\"rgb(20, 20, 20)\"],[0.2,\"rgb(40, 40, 40)\"],[0.3,\"rgb(40, 40, 40)\"],[0.3,\"rgb(60, 60, 60)\"],[0.4,\"rgb(60, 60, 60)\"],[0.4,\"rgb(80, 80, 80)\"],[0.5,\"rgb(80, 80, 80)\"],[0.5,\"rgb(100, 100, 100)\"],[0.6,\"rgb(100, 100, 100)\"],[0.6,\"rgb(120, 120, 120)\"],[0.7,\"rgb(120, 120, 120)\"],[0.7,\"rgb(140, 140, 140)\"],[0.8,\"rgb(140, 140, 140)\"],[0.8,\"rgb(160, 160, 160)\"],[0.9,\"rgb(160, 160, 160)\"],[0.9,\"rgb(180, 180, 180)\"],[1.0,\"rgb(180, 180, 180)\"]],\"autocolorscale\":true,\"locations\":[\"AL\",\"AK\",\"AZ\",\"AR\",\"CA\",\"CO\",\"CT\",\"DE\",\"DC\",\"FL\",\"GA\",\"HI\",\"ID\",\"IL\",\"IN\",\"IA\",\"KS\",\"KY\",\"LA\",\"ME\",\"MD\",\"MA\",\"MI\",\"MN\",\"MS\",\"MO\",\"MT\",\"NE\",\"NV\",\"NH\",\"NJ\",\"NM\",\"NY\",\"NC\",\"ND\",\"OH\",\"OK\",\"OR\",\"PA\",\"RI\",\"SC\",\"SD\",\"TN\",\"TX\",\"UT\",\"VT\",\"VA\",\"WA\",\"WV\",\"WI\",\"WY\"],\"z\":[113.0,28.0,285.0,50.0,1321.0,486.0,59.0,22.0,5.0,419.0,114.0,72.0,150.0,995.0,299.0,214.0,139.0,83.0,18.0,112.0,110.0,127.0,281.0,299.0,46.0,255.0,120.0,60.0,34.0,111.0,223.0,182.0,1022.0,189.0,59.0,790.0,46.0,186.0,511.0,20.0,105.0,30.0,105.0,613.0,286.0,47.0,197.0,759.0,41.0,356.0,8.0],\"zmin\":0,\"zmax\":500,\"locationmode\":\"USA-states\",\"text\":[\"ALABAMA<br>Disease PERTUSSIS HEPATITIS A\",\"ALASKA<br>Disease PERTUSSIS HEPATITIS A\",\"ARIZONA<br>Disease PERTUSSIS HEPATITIS A\",\"ARKANSAS<br>Disease PERTUSSIS HEPATITIS A\",\"CALIFORNIA<br>Disease PERTUSSIS HEPATITIS A\",\"COLORADO<br>Disease PERTUSSIS HEPATITIS A\",\"CONNECTICUT<br>Disease PERTUSSIS HEPATITIS A\",\"DELAWARE<br>Disease PERTUSSIS HEPATITIS A\",\"DISTRICT OF COLUMBIA<br>Disease PERTUSSIS\",\"FLORIDA<br>Disease PERTUSSIS HEPATITIS A\",\"GEORGIA<br>Disease PERTUSSIS HEPATITIS A\",\"HAWAII<br>Disease PERTUSSIS HEPATITIS A\",\"IDAHO<br>Disease PERTUSSIS HEPATITIS A\",\"ILLINOIS<br>Disease PERTUSSIS HEPATITIS A\",\"INDIANA<br>Disease PERTUSSIS HEPATITIS A\",\"IOWA<br>Disease PERTUSSIS HEPATITIS A\",\"KANSAS<br>Disease PERTUSSIS HEPATITIS A\",\"KENTUCKY<br>Disease PERTUSSIS HEPATITIS A\",\"LOUISIANA<br>Disease PERTUSSIS HEPATITIS A\",\"MAINE<br>Disease PERTUSSIS HEPATITIS A\",\"MARYLAND<br>Disease PERTUSSIS HEPATITIS A\",\"MASSACHUSETTS<br>Disease PERTUSSIS HEPATITIS A\",\"MICHIGAN<br>Disease PERTUSSIS HEPATITIS A\",\"MINNESOTA<br>Disease PERTUSSIS HEPATITIS A\",\"MISSISSIPPI<br>Disease PERTUSSIS HEPATITIS A\",\"MISSOURI<br>Disease PERTUSSIS HEPATITIS A\",\"MONTANA<br>Disease PERTUSSIS HEPATITIS A\",\"NEBRASKA<br>Disease PERTUSSIS HEPATITIS A\",\"NEVADA<br>Disease PERTUSSIS HEPATITIS A\",\"NEW HAMPSHIRE<br>Disease PERTUSSIS\",\"NEW JERSEY<br>Disease PERTUSSIS HEPATITIS A\",\"NEW MEXICO<br>Disease PERTUSSIS HEPATITIS A\",\"NEW YORK<br>Disease PERTUSSIS HEPATITIS A\",\"NORTH CAROLINA<br>Disease PERTUSSIS HEPATITIS A\",\"NORTH DAKOTA<br>Disease PERTUSSIS\",\"OHIO<br>Disease PERTUSSIS HEPATITIS A\",\"OKLAHOMA<br>Disease PERTUSSIS HEPATITIS A\",\"OREGON<br>Disease PERTUSSIS HEPATITIS A\",\"PENNSYLVANIA<br>Disease PERTUSSIS HEPATITIS A\",\"RHODE ISLAND<br>Disease PERTUSSIS HEPATITIS A\",\"SOUTH CAROLINA<br>Disease PERTUSSIS HEPATITIS A\",\"SOUTH DAKOTA<br>Disease PERTUSSIS HEPATITIS A\",\"TENNESSEE<br>Disease PERTUSSIS HEPATITIS A\",\"TEXAS<br>Disease PERTUSSIS HEPATITIS A\",\"UTAH<br>Disease PERTUSSIS HEPATITIS A\",\"VERMONT<br>Disease PERTUSSIS HEPATITIS A\",\"VIRGINIA<br>Disease PERTUSSIS HEPATITIS A\",\"WASHINGTON<br>Disease PERTUSSIS HEPATITIS A\",\"WEST VIRGINIA<br>Disease PERTUSSIS HEPATITIS A\",\"WISCONSIN<br>Disease PERTUSSIS HEPATITIS A\",\"WYOMING<br>Disease PERTUSSIS HEPATITIS A\"],\"marker\":{\"line\":{\"color\":\"rgb(255,255,255)\",\"width\":2}},\"colorbar\":{\"title\":\"Disease outbreak - cases in 2011\"}}],                        {\"title\":\"2011 US Diseases Cases Found by State<br>(Hover for breakdown)\",\"geo\":{\"scope\":\"usa\",\"projection\":{\"type\":\"albers usa\"},\"showlakes\":true,\"lakecolor\":\"rgb(255, 255, 255)\"}},                        {\"responsive\": true}                    ).then(function(){\n",
       "                            \n",
       "var gd = document.getElementById('d1e9dbc0-6815-43f0-a27b-c7e8f82d9cfd');\n",
       "var x = new MutationObserver(function (mutations, observer) {{\n",
       "        var display = window.getComputedStyle(gd).display;\n",
       "        if (!display || display === 'none') {{\n",
       "            console.log([gd, 'removed!']);\n",
       "            Plotly.purge(gd);\n",
       "            observer.disconnect();\n",
       "        }}\n",
       "}});\n",
       "\n",
       "// Listen for the removal of the full notebook cells\n",
       "var notebookContainer = gd.closest('#notebook-container');\n",
       "if (notebookContainer) {{\n",
       "    x.observe(notebookContainer, {childList: true});\n",
       "}}\n",
       "\n",
       "// Listen for the clearing of the current output cell\n",
       "var outputEl = gd.closest('.output');\n",
       "if (outputEl) {{\n",
       "    x.observe(outputEl, {childList: true});\n",
       "}}\n",
       "\n",
       "                        })                };                });            </script>        </div>"
      ]
     },
     "metadata": {},
     "output_type": "display_data"
    }
   ],
   "source": [
    "# get visualization for year 2011\n",
    "\n",
    "get_1yr_viz(2011)"
   ]
  },
  {
   "cell_type": "code",
   "execution_count": 229,
   "metadata": {},
   "outputs": [
    {
     "data": {
      "text/html": [
       "        <script type=\"text/javascript\">\n",
       "        window.PlotlyConfig = {MathJaxConfig: 'local'};\n",
       "        if (window.MathJax && window.MathJax.Hub && window.MathJax.Hub.Config) {window.MathJax.Hub.Config({SVG: {font: \"STIX-Web\"}});}\n",
       "        if (typeof require !== 'undefined') {\n",
       "        require.undef(\"plotly\");\n",
       "        requirejs.config({\n",
       "            paths: {\n",
       "                'plotly': ['https://cdn.plot.ly/plotly-2.12.1.min']\n",
       "            }\n",
       "        });\n",
       "        require(['plotly'], function(Plotly) {\n",
       "            window._Plotly = Plotly;\n",
       "        });\n",
       "        }\n",
       "        </script>\n",
       "        "
      ]
     },
     "metadata": {},
     "output_type": "display_data"
    },
    {
     "data": {
      "application/vnd.plotly.v1+json": {
       "config": {
        "linkText": "Export to plot.ly",
        "plotlyServerURL": "https://plot.ly",
        "showLink": false
       },
       "data": [
        {
         "autocolorscale": true,
         "colorbar": {
          "title": "Disease outbreak - cases in 1970"
         },
         "colorscale": [
          [
           0,
           "rgb(0, 0, 0)"
          ],
          [
           0.1,
           "rgb(0, 0, 0)"
          ],
          [
           0.1,
           "rgb(20, 20, 20)"
          ],
          [
           0.2,
           "rgb(20, 20, 20)"
          ],
          [
           0.2,
           "rgb(40, 40, 40)"
          ],
          [
           0.3,
           "rgb(40, 40, 40)"
          ],
          [
           0.3,
           "rgb(60, 60, 60)"
          ],
          [
           0.4,
           "rgb(60, 60, 60)"
          ],
          [
           0.4,
           "rgb(80, 80, 80)"
          ],
          [
           0.5,
           "rgb(80, 80, 80)"
          ],
          [
           0.5,
           "rgb(100, 100, 100)"
          ],
          [
           0.6,
           "rgb(100, 100, 100)"
          ],
          [
           0.6,
           "rgb(120, 120, 120)"
          ],
          [
           0.7,
           "rgb(120, 120, 120)"
          ],
          [
           0.7,
           "rgb(140, 140, 140)"
          ],
          [
           0.8,
           "rgb(140, 140, 140)"
          ],
          [
           0.8,
           "rgb(160, 160, 160)"
          ],
          [
           0.9,
           "rgb(160, 160, 160)"
          ],
          [
           0.9,
           "rgb(180, 180, 180)"
          ],
          [
           1,
           "rgb(180, 180, 180)"
          ]
         ],
         "locationmode": "USA-states",
         "locations": [
          "AL",
          "AK",
          "AZ",
          "AR",
          "CA",
          "CO",
          "CT",
          "DE",
          "DC",
          "FL",
          "GA",
          "HI",
          "ID",
          "IL",
          "IN",
          "IA",
          "KS",
          "KY",
          "LA",
          "ME",
          "MD",
          "MA",
          "MI",
          "MN",
          "MS",
          "MO",
          "MT",
          "NE",
          "NV",
          "NH",
          "NJ",
          "NM",
          "NY",
          "NC",
          "ND",
          "OH",
          "OK",
          "OR",
          "PA",
          "RI",
          "SC",
          "SD",
          "TN",
          "TX",
          "UT",
          "VT",
          "VA",
          "WA",
          "WV",
          "WI",
          "WY"
         ],
         "marker": {
          "line": {
           "color": "rgb(255,255,255)",
           "width": 2
          }
         },
         "text": [
          "ALABAMA<br>Disease HEPATITIS A RUBELLA MUMPS MEASLES",
          "ALASKA<br>Disease HEPATITIS A RUBELLA MUMPS MEASLES",
          "ARIZONA<br>Disease HEPATITIS A RUBELLA MUMPS MEASLES",
          "ARKANSAS<br>Disease HEPATITIS A RUBELLA MUMPS MEASLES",
          "CALIFORNIA<br>Disease HEPATITIS A RUBELLA MUMPS MEASLES",
          "COLORADO<br>Disease HEPATITIS A RUBELLA MUMPS MEASLES",
          "CONNECTICUT<br>Disease HEPATITIS A RUBELLA MUMPS MEASLES",
          "DELAWARE<br>Disease HEPATITIS A RUBELLA MUMPS MEASLES",
          "DISTRICT OF COLUMBIA<br>Disease HEPATITIS A RUBELLA MUMPS MEASLES",
          "FLORIDA<br>Disease HEPATITIS A RUBELLA MUMPS MEASLES",
          "GEORGIA<br>Disease HEPATITIS A MUMPS MEASLES",
          "HAWAII<br>Disease HEPATITIS A RUBELLA MUMPS MEASLES",
          "IDAHO<br>Disease HEPATITIS A RUBELLA MUMPS MEASLES",
          "ILLINOIS<br>Disease HEPATITIS A RUBELLA MUMPS MEASLES",
          "INDIANA<br>Disease HEPATITIS A RUBELLA MUMPS MEASLES",
          "IOWA<br>Disease HEPATITIS A RUBELLA MUMPS MEASLES",
          "KANSAS<br>Disease HEPATITIS A RUBELLA MUMPS MEASLES",
          "KENTUCKY<br>Disease HEPATITIS A RUBELLA MUMPS MEASLES",
          "LOUISIANA<br>Disease HEPATITIS A RUBELLA MUMPS MEASLES",
          "MAINE<br>Disease HEPATITIS A RUBELLA MUMPS MEASLES",
          "MARYLAND<br>Disease HEPATITIS A RUBELLA MUMPS MEASLES",
          "MASSACHUSETTS<br>Disease HEPATITIS A RUBELLA MUMPS MEASLES",
          "MICHIGAN<br>Disease HEPATITIS A RUBELLA MUMPS MEASLES",
          "MINNESOTA<br>Disease HEPATITIS A RUBELLA MUMPS MEASLES",
          "MISSISSIPPI<br>Disease HEPATITIS A RUBELLA MUMPS MEASLES",
          "MISSOURI<br>Disease HEPATITIS A RUBELLA MUMPS MEASLES",
          "MONTANA<br>Disease HEPATITIS A RUBELLA MUMPS MEASLES",
          "NEBRASKA<br>Disease HEPATITIS A RUBELLA MUMPS MEASLES",
          "NEVADA<br>Disease HEPATITIS A MEASLES",
          "NEW HAMPSHIRE<br>Disease HEPATITIS A RUBELLA MUMPS MEASLES",
          "NEW JERSEY<br>Disease HEPATITIS A RUBELLA MUMPS MEASLES",
          "NEW MEXICO<br>Disease HEPATITIS A RUBELLA MUMPS MEASLES",
          "NEW YORK<br>Disease HEPATITIS A RUBELLA MUMPS MEASLES",
          "NORTH CAROLINA<br>Disease HEPATITIS A RUBELLA MEASLES",
          "NORTH DAKOTA<br>Disease HEPATITIS A RUBELLA MUMPS MEASLES",
          "OHIO<br>Disease HEPATITIS A RUBELLA MUMPS MEASLES",
          "OKLAHOMA<br>Disease HEPATITIS A RUBELLA MUMPS MEASLES",
          "OREGON<br>Disease HEPATITIS A RUBELLA MUMPS MEASLES",
          "PENNSYLVANIA<br>Disease HEPATITIS A RUBELLA MUMPS MEASLES",
          "RHODE ISLAND<br>Disease HEPATITIS A RUBELLA MUMPS MEASLES",
          "SOUTH CAROLINA<br>Disease HEPATITIS A RUBELLA MUMPS MEASLES",
          "SOUTH DAKOTA<br>Disease HEPATITIS A RUBELLA MUMPS MEASLES",
          "TENNESSEE<br>Disease HEPATITIS A RUBELLA MUMPS MEASLES",
          "TEXAS<br>Disease HEPATITIS A RUBELLA MUMPS MEASLES",
          "UTAH<br>Disease HEPATITIS A RUBELLA MUMPS MEASLES",
          "VERMONT<br>Disease HEPATITIS A RUBELLA MUMPS MEASLES",
          "VIRGINIA<br>Disease HEPATITIS A RUBELLA MUMPS MEASLES",
          "WASHINGTON<br>Disease HEPATITIS A RUBELLA MUMPS MEASLES",
          "WEST VIRGINIA<br>Disease HEPATITIS A RUBELLA MUMPS MEASLES",
          "WISCONSIN<br>Disease HEPATITIS A RUBELLA MUMPS MEASLES",
          "WYOMING<br>Disease HEPATITIS A RUBELLA MUMPS MEASLES"
         ],
         "type": "choropleth",
         "z": [
          1672,
          594,
          3229,
          439,
          22849,
          3122,
          5246,
          815,
          671,
          9495,
          784,
          2143,
          578,
          8977,
          5337,
          6626,
          848,
          5477,
          1077,
          2456,
          3773,
          7780,
          16123,
          1045,
          537,
          2255,
          1426,
          1873,
          158,
          851,
          8032,
          1671,
          8800,
          2019,
          917,
          13360,
          4424,
          3834,
          10405,
          3206,
          2716,
          189,
          6645,
          25363,
          651,
          1180,
          6816,
          12761,
          4684,
          15504,
          274
         ],
         "zmax": 500,
         "zmin": 0
        }
       ],
       "layout": {
        "geo": {
         "lakecolor": "rgb(255, 255, 255)",
         "projection": {
          "type": "albers usa"
         },
         "scope": "usa",
         "showlakes": true
        },
        "title": "1970 US Diseases Cases Found by State<br>(Hover for breakdown)"
       }
      },
      "text/html": [
       "<div>                            <div id=\"3511c183-ea7a-40f0-8ead-45bbf51682bf\" class=\"plotly-graph-div\" style=\"height:525px; width:100%;\"></div>            <script type=\"text/javascript\">                require([\"plotly\"], function(Plotly) {                    window.PLOTLYENV=window.PLOTLYENV || {};                                    if (document.getElementById(\"3511c183-ea7a-40f0-8ead-45bbf51682bf\")) {                    Plotly.newPlot(                        \"3511c183-ea7a-40f0-8ead-45bbf51682bf\",                        [{\"type\":\"choropleth\",\"colorscale\":[[0,\"rgb(0, 0, 0)\"],[0.1,\"rgb(0, 0, 0)\"],[0.1,\"rgb(20, 20, 20)\"],[0.2,\"rgb(20, 20, 20)\"],[0.2,\"rgb(40, 40, 40)\"],[0.3,\"rgb(40, 40, 40)\"],[0.3,\"rgb(60, 60, 60)\"],[0.4,\"rgb(60, 60, 60)\"],[0.4,\"rgb(80, 80, 80)\"],[0.5,\"rgb(80, 80, 80)\"],[0.5,\"rgb(100, 100, 100)\"],[0.6,\"rgb(100, 100, 100)\"],[0.6,\"rgb(120, 120, 120)\"],[0.7,\"rgb(120, 120, 120)\"],[0.7,\"rgb(140, 140, 140)\"],[0.8,\"rgb(140, 140, 140)\"],[0.8,\"rgb(160, 160, 160)\"],[0.9,\"rgb(160, 160, 160)\"],[0.9,\"rgb(180, 180, 180)\"],[1.0,\"rgb(180, 180, 180)\"]],\"autocolorscale\":true,\"locations\":[\"AL\",\"AK\",\"AZ\",\"AR\",\"CA\",\"CO\",\"CT\",\"DE\",\"DC\",\"FL\",\"GA\",\"HI\",\"ID\",\"IL\",\"IN\",\"IA\",\"KS\",\"KY\",\"LA\",\"ME\",\"MD\",\"MA\",\"MI\",\"MN\",\"MS\",\"MO\",\"MT\",\"NE\",\"NV\",\"NH\",\"NJ\",\"NM\",\"NY\",\"NC\",\"ND\",\"OH\",\"OK\",\"OR\",\"PA\",\"RI\",\"SC\",\"SD\",\"TN\",\"TX\",\"UT\",\"VT\",\"VA\",\"WA\",\"WV\",\"WI\",\"WY\"],\"z\":[1672.0,594.0,3229.0,439.0,22849.0,3122.0,5246.0,815.0,671.0,9495.0,784.0,2143.0,578.0,8977.0,5337.0,6626.0,848.0,5477.0,1077.0,2456.0,3773.0,7780.0,16123.0,1045.0,537.0,2255.0,1426.0,1873.0,158.0,851.0,8032.0,1671.0,8800.0,2019.0,917.0,13360.0,4424.0,3834.0,10405.0,3206.0,2716.0,189.0,6645.0,25363.0,651.0,1180.0,6816.0,12761.0,4684.0,15504.0,274.0],\"zmin\":0,\"zmax\":500,\"locationmode\":\"USA-states\",\"text\":[\"ALABAMA<br>Disease HEPATITIS A RUBELLA MUMPS MEASLES\",\"ALASKA<br>Disease HEPATITIS A RUBELLA MUMPS MEASLES\",\"ARIZONA<br>Disease HEPATITIS A RUBELLA MUMPS MEASLES\",\"ARKANSAS<br>Disease HEPATITIS A RUBELLA MUMPS MEASLES\",\"CALIFORNIA<br>Disease HEPATITIS A RUBELLA MUMPS MEASLES\",\"COLORADO<br>Disease HEPATITIS A RUBELLA MUMPS MEASLES\",\"CONNECTICUT<br>Disease HEPATITIS A RUBELLA MUMPS MEASLES\",\"DELAWARE<br>Disease HEPATITIS A RUBELLA MUMPS MEASLES\",\"DISTRICT OF COLUMBIA<br>Disease HEPATITIS A RUBELLA MUMPS MEASLES\",\"FLORIDA<br>Disease HEPATITIS A RUBELLA MUMPS MEASLES\",\"GEORGIA<br>Disease HEPATITIS A MUMPS MEASLES\",\"HAWAII<br>Disease HEPATITIS A RUBELLA MUMPS MEASLES\",\"IDAHO<br>Disease HEPATITIS A RUBELLA MUMPS MEASLES\",\"ILLINOIS<br>Disease HEPATITIS A RUBELLA MUMPS MEASLES\",\"INDIANA<br>Disease HEPATITIS A RUBELLA MUMPS MEASLES\",\"IOWA<br>Disease HEPATITIS A RUBELLA MUMPS MEASLES\",\"KANSAS<br>Disease HEPATITIS A RUBELLA MUMPS MEASLES\",\"KENTUCKY<br>Disease HEPATITIS A RUBELLA MUMPS MEASLES\",\"LOUISIANA<br>Disease HEPATITIS A RUBELLA MUMPS MEASLES\",\"MAINE<br>Disease HEPATITIS A RUBELLA MUMPS MEASLES\",\"MARYLAND<br>Disease HEPATITIS A RUBELLA MUMPS MEASLES\",\"MASSACHUSETTS<br>Disease HEPATITIS A RUBELLA MUMPS MEASLES\",\"MICHIGAN<br>Disease HEPATITIS A RUBELLA MUMPS MEASLES\",\"MINNESOTA<br>Disease HEPATITIS A RUBELLA MUMPS MEASLES\",\"MISSISSIPPI<br>Disease HEPATITIS A RUBELLA MUMPS MEASLES\",\"MISSOURI<br>Disease HEPATITIS A RUBELLA MUMPS MEASLES\",\"MONTANA<br>Disease HEPATITIS A RUBELLA MUMPS MEASLES\",\"NEBRASKA<br>Disease HEPATITIS A RUBELLA MUMPS MEASLES\",\"NEVADA<br>Disease HEPATITIS A MEASLES\",\"NEW HAMPSHIRE<br>Disease HEPATITIS A RUBELLA MUMPS MEASLES\",\"NEW JERSEY<br>Disease HEPATITIS A RUBELLA MUMPS MEASLES\",\"NEW MEXICO<br>Disease HEPATITIS A RUBELLA MUMPS MEASLES\",\"NEW YORK<br>Disease HEPATITIS A RUBELLA MUMPS MEASLES\",\"NORTH CAROLINA<br>Disease HEPATITIS A RUBELLA MEASLES\",\"NORTH DAKOTA<br>Disease HEPATITIS A RUBELLA MUMPS MEASLES\",\"OHIO<br>Disease HEPATITIS A RUBELLA MUMPS MEASLES\",\"OKLAHOMA<br>Disease HEPATITIS A RUBELLA MUMPS MEASLES\",\"OREGON<br>Disease HEPATITIS A RUBELLA MUMPS MEASLES\",\"PENNSYLVANIA<br>Disease HEPATITIS A RUBELLA MUMPS MEASLES\",\"RHODE ISLAND<br>Disease HEPATITIS A RUBELLA MUMPS MEASLES\",\"SOUTH CAROLINA<br>Disease HEPATITIS A RUBELLA MUMPS MEASLES\",\"SOUTH DAKOTA<br>Disease HEPATITIS A RUBELLA MUMPS MEASLES\",\"TENNESSEE<br>Disease HEPATITIS A RUBELLA MUMPS MEASLES\",\"TEXAS<br>Disease HEPATITIS A RUBELLA MUMPS MEASLES\",\"UTAH<br>Disease HEPATITIS A RUBELLA MUMPS MEASLES\",\"VERMONT<br>Disease HEPATITIS A RUBELLA MUMPS MEASLES\",\"VIRGINIA<br>Disease HEPATITIS A RUBELLA MUMPS MEASLES\",\"WASHINGTON<br>Disease HEPATITIS A RUBELLA MUMPS MEASLES\",\"WEST VIRGINIA<br>Disease HEPATITIS A RUBELLA MUMPS MEASLES\",\"WISCONSIN<br>Disease HEPATITIS A RUBELLA MUMPS MEASLES\",\"WYOMING<br>Disease HEPATITIS A RUBELLA MUMPS MEASLES\"],\"marker\":{\"line\":{\"color\":\"rgb(255,255,255)\",\"width\":2}},\"colorbar\":{\"title\":\"Disease outbreak - cases in 1970\"}}],                        {\"title\":\"1970 US Diseases Cases Found by State<br>(Hover for breakdown)\",\"geo\":{\"scope\":\"usa\",\"projection\":{\"type\":\"albers usa\"},\"showlakes\":true,\"lakecolor\":\"rgb(255, 255, 255)\"}},                        {\"responsive\": true}                    ).then(function(){\n",
       "                            \n",
       "var gd = document.getElementById('3511c183-ea7a-40f0-8ead-45bbf51682bf');\n",
       "var x = new MutationObserver(function (mutations, observer) {{\n",
       "        var display = window.getComputedStyle(gd).display;\n",
       "        if (!display || display === 'none') {{\n",
       "            console.log([gd, 'removed!']);\n",
       "            Plotly.purge(gd);\n",
       "            observer.disconnect();\n",
       "        }}\n",
       "}});\n",
       "\n",
       "// Listen for the removal of the full notebook cells\n",
       "var notebookContainer = gd.closest('#notebook-container');\n",
       "if (notebookContainer) {{\n",
       "    x.observe(notebookContainer, {childList: true});\n",
       "}}\n",
       "\n",
       "// Listen for the clearing of the current output cell\n",
       "var outputEl = gd.closest('.output');\n",
       "if (outputEl) {{\n",
       "    x.observe(outputEl, {childList: true});\n",
       "}}\n",
       "\n",
       "                        })                };                });            </script>        </div>"
      ]
     },
     "metadata": {},
     "output_type": "display_data"
    }
   ],
   "source": [
    "# get visualization for year 1970 \n",
    "get_1yr_viz(1970)"
   ]
  },
  {
   "cell_type": "code",
   "execution_count": 241,
   "metadata": {},
   "outputs": [
    {
     "data": {
      "text/html": [
       "        <script type=\"text/javascript\">\n",
       "        window.PlotlyConfig = {MathJaxConfig: 'local'};\n",
       "        if (window.MathJax && window.MathJax.Hub && window.MathJax.Hub.Config) {window.MathJax.Hub.Config({SVG: {font: \"STIX-Web\"}});}\n",
       "        if (typeof require !== 'undefined') {\n",
       "        require.undef(\"plotly\");\n",
       "        requirejs.config({\n",
       "            paths: {\n",
       "                'plotly': ['https://cdn.plot.ly/plotly-2.12.1.min']\n",
       "            }\n",
       "        });\n",
       "        require(['plotly'], function(Plotly) {\n",
       "            window._Plotly = Plotly;\n",
       "        });\n",
       "        }\n",
       "        </script>\n",
       "        "
      ]
     },
     "metadata": {},
     "output_type": "display_data"
    },
    {
     "data": {
      "application/vnd.plotly.v1+json": {
       "config": {
        "linkText": "Export to plot.ly",
        "plotlyServerURL": "https://plot.ly",
        "showLink": false
       },
       "data": [
        {
         "autocolorscale": true,
         "colorbar": {
          "title": "Disease outbreak - cases in 2010"
         },
         "colorscale": [
          [
           0,
           "rgb(0, 0, 0)"
          ],
          [
           0.1,
           "rgb(0, 0, 0)"
          ],
          [
           0.1,
           "rgb(20, 20, 20)"
          ],
          [
           0.2,
           "rgb(20, 20, 20)"
          ],
          [
           0.2,
           "rgb(40, 40, 40)"
          ],
          [
           0.3,
           "rgb(40, 40, 40)"
          ],
          [
           0.3,
           "rgb(60, 60, 60)"
          ],
          [
           0.4,
           "rgb(60, 60, 60)"
          ],
          [
           0.4,
           "rgb(80, 80, 80)"
          ],
          [
           0.5,
           "rgb(80, 80, 80)"
          ],
          [
           0.5,
           "rgb(100, 100, 100)"
          ],
          [
           0.6,
           "rgb(100, 100, 100)"
          ],
          [
           0.6,
           "rgb(120, 120, 120)"
          ],
          [
           0.7,
           "rgb(120, 120, 120)"
          ],
          [
           0.7,
           "rgb(140, 140, 140)"
          ],
          [
           0.8,
           "rgb(140, 140, 140)"
          ],
          [
           0.8,
           "rgb(160, 160, 160)"
          ],
          [
           0.9,
           "rgb(160, 160, 160)"
          ],
          [
           0.9,
           "rgb(180, 180, 180)"
          ],
          [
           1,
           "rgb(180, 180, 180)"
          ]
         ],
         "locationmode": "USA-states",
         "locations": [
          "AL",
          "AK",
          "AZ",
          "AR",
          "CA",
          "CO",
          "CT",
          "DE",
          "DC",
          "FL",
          "GA",
          "HI",
          "ID",
          "IL",
          "IN",
          "IA",
          "KS",
          "KY",
          "LA",
          "ME",
          "MD",
          "MA",
          "MI",
          "MN",
          "MS",
          "MO",
          "MT",
          "NE",
          "NV",
          "NH",
          "NJ",
          "NM",
          "NY",
          "NC",
          "ND",
          "OH",
          "OK",
          "OR",
          "PA",
          "RI",
          "SC",
          "SD",
          "TN",
          "TX",
          "UT",
          "VT",
          "VA",
          "WA",
          "WV",
          "WI",
          "WY"
         ],
         "marker": {
          "line": {
           "color": "rgb(255,255,255)",
           "width": 2
          }
         },
         "text": [
          "ALABAMA<br>Disease PERTUSSIS HEPATITIS A",
          "ALASKA<br>Disease PERTUSSIS HEPATITIS A",
          "ARIZONA<br>Disease PERTUSSIS HEPATITIS A",
          "ARKANSAS<br>Disease PERTUSSIS HEPATITIS A",
          "CALIFORNIA<br>Disease PERTUSSIS HEPATITIS A",
          "COLORADO<br>Disease PERTUSSIS HEPATITIS A",
          "CONNECTICUT<br>Disease PERTUSSIS HEPATITIS A",
          "DELAWARE<br>Disease PERTUSSIS HEPATITIS A",
          "DISTRICT OF COLUMBIA<br>Disease PERTUSSIS HEPATITIS A",
          "FLORIDA<br>Disease PERTUSSIS HEPATITIS A",
          "GEORGIA<br>Disease PERTUSSIS HEPATITIS A",
          "HAWAII<br>Disease PERTUSSIS HEPATITIS A",
          "IDAHO<br>Disease PERTUSSIS HEPATITIS A",
          "ILLINOIS<br>Disease PERTUSSIS HEPATITIS A",
          "INDIANA<br>Disease PERTUSSIS HEPATITIS A",
          "IOWA<br>Disease PERTUSSIS HEPATITIS A",
          "KANSAS<br>Disease PERTUSSIS HEPATITIS A",
          "KENTUCKY<br>Disease PERTUSSIS HEPATITIS A",
          "LOUISIANA<br>Disease PERTUSSIS HEPATITIS A",
          "MAINE<br>Disease PERTUSSIS HEPATITIS A",
          "MARYLAND<br>Disease PERTUSSIS HEPATITIS A",
          "MASSACHUSETTS<br>Disease PERTUSSIS HEPATITIS A",
          "MICHIGAN<br>Disease PERTUSSIS HEPATITIS A",
          "MINNESOTA<br>Disease PERTUSSIS HEPATITIS A",
          "MISSISSIPPI<br>Disease PERTUSSIS HEPATITIS A",
          "MISSOURI<br>Disease PERTUSSIS HEPATITIS A",
          "MONTANA<br>Disease PERTUSSIS HEPATITIS A",
          "NEBRASKA<br>Disease PERTUSSIS HEPATITIS A",
          "NEVADA<br>Disease PERTUSSIS HEPATITIS A",
          "NEW HAMPSHIRE<br>Disease PERTUSSIS HEPATITIS A",
          "NEW JERSEY<br>Disease PERTUSSIS HEPATITIS A",
          "NEW MEXICO<br>Disease PERTUSSIS HEPATITIS A",
          "NEW YORK<br>Disease PERTUSSIS HEPATITIS A",
          "NORTH CAROLINA<br>Disease PERTUSSIS HEPATITIS A",
          "NORTH DAKOTA<br>Disease PERTUSSIS HEPATITIS A",
          "OHIO<br>Disease PERTUSSIS HEPATITIS A",
          "OKLAHOMA<br>Disease PERTUSSIS HEPATITIS A",
          "OREGON<br>Disease PERTUSSIS HEPATITIS A",
          "PENNSYLVANIA<br>Disease PERTUSSIS HEPATITIS A",
          "RHODE ISLAND<br>Disease PERTUSSIS HEPATITIS A",
          "SOUTH CAROLINA<br>Disease PERTUSSIS HEPATITIS A",
          "SOUTH DAKOTA<br>Disease PERTUSSIS HEPATITIS A",
          "TENNESSEE<br>Disease PERTUSSIS HEPATITIS A",
          "TEXAS<br>Disease PERTUSSIS HEPATITIS A",
          "UTAH<br>Disease PERTUSSIS HEPATITIS A",
          "VERMONT<br>Disease PERTUSSIS",
          "VIRGINIA<br>Disease PERTUSSIS HEPATITIS A",
          "WASHINGTON<br>Disease PERTUSSIS HEPATITIS A",
          "WEST VIRGINIA<br>Disease PERTUSSIS HEPATITIS A",
          "WISCONSIN<br>Disease PERTUSSIS HEPATITIS A",
          "WYOMING<br>Disease PERTUSSIS HEPATITIS A"
         ],
         "type": "choropleth",
         "z": [
          121,
          46,
          255,
          67,
          1466,
          641,
          119,
          15,
          11,
          498,
          142,
          42,
          165,
          855,
          619,
          640,
          155,
          206,
          46,
          51,
          109,
          37,
          425,
          733,
          66,
          327,
          113,
          188,
          42,
          20,
          145,
          127,
          3623,
          56,
          61,
          1858,
          94,
          182,
          593,
          24,
          188,
          25,
          155,
          1348,
          241,
          15,
          197,
          581,
          100,
          330,
          9
         ],
         "zmax": 500,
         "zmin": 0
        }
       ],
       "layout": {
        "geo": {
         "lakecolor": "rgb(255, 255, 255)",
         "projection": {
          "type": "albers usa"
         },
         "scope": "usa",
         "showlakes": true
        },
        "title": "2010 US Diseases Cases Found by State<br>(Hover for breakdown)"
       }
      },
      "text/html": [
       "<div>                            <div id=\"f1a8826f-251b-4217-a619-16a711e19087\" class=\"plotly-graph-div\" style=\"height:525px; width:100%;\"></div>            <script type=\"text/javascript\">                require([\"plotly\"], function(Plotly) {                    window.PLOTLYENV=window.PLOTLYENV || {};                                    if (document.getElementById(\"f1a8826f-251b-4217-a619-16a711e19087\")) {                    Plotly.newPlot(                        \"f1a8826f-251b-4217-a619-16a711e19087\",                        [{\"type\":\"choropleth\",\"colorscale\":[[0,\"rgb(0, 0, 0)\"],[0.1,\"rgb(0, 0, 0)\"],[0.1,\"rgb(20, 20, 20)\"],[0.2,\"rgb(20, 20, 20)\"],[0.2,\"rgb(40, 40, 40)\"],[0.3,\"rgb(40, 40, 40)\"],[0.3,\"rgb(60, 60, 60)\"],[0.4,\"rgb(60, 60, 60)\"],[0.4,\"rgb(80, 80, 80)\"],[0.5,\"rgb(80, 80, 80)\"],[0.5,\"rgb(100, 100, 100)\"],[0.6,\"rgb(100, 100, 100)\"],[0.6,\"rgb(120, 120, 120)\"],[0.7,\"rgb(120, 120, 120)\"],[0.7,\"rgb(140, 140, 140)\"],[0.8,\"rgb(140, 140, 140)\"],[0.8,\"rgb(160, 160, 160)\"],[0.9,\"rgb(160, 160, 160)\"],[0.9,\"rgb(180, 180, 180)\"],[1.0,\"rgb(180, 180, 180)\"]],\"autocolorscale\":true,\"locations\":[\"AL\",\"AK\",\"AZ\",\"AR\",\"CA\",\"CO\",\"CT\",\"DE\",\"DC\",\"FL\",\"GA\",\"HI\",\"ID\",\"IL\",\"IN\",\"IA\",\"KS\",\"KY\",\"LA\",\"ME\",\"MD\",\"MA\",\"MI\",\"MN\",\"MS\",\"MO\",\"MT\",\"NE\",\"NV\",\"NH\",\"NJ\",\"NM\",\"NY\",\"NC\",\"ND\",\"OH\",\"OK\",\"OR\",\"PA\",\"RI\",\"SC\",\"SD\",\"TN\",\"TX\",\"UT\",\"VT\",\"VA\",\"WA\",\"WV\",\"WI\",\"WY\"],\"z\":[121.0,46.0,255.0,67.0,1466.0,641.0,119.0,15.0,11.0,498.0,142.0,42.0,165.0,855.0,619.0,640.0,155.0,206.0,46.0,51.0,109.0,37.0,425.0,733.0,66.0,327.0,113.0,188.0,42.0,20.0,145.0,127.0,3623.0,56.0,61.0,1858.0,94.0,182.0,593.0,24.0,188.0,25.0,155.0,1348.0,241.0,15.0,197.0,581.0,100.0,330.0,9.0],\"zmin\":0,\"zmax\":500,\"locationmode\":\"USA-states\",\"text\":[\"ALABAMA<br>Disease PERTUSSIS HEPATITIS A\",\"ALASKA<br>Disease PERTUSSIS HEPATITIS A\",\"ARIZONA<br>Disease PERTUSSIS HEPATITIS A\",\"ARKANSAS<br>Disease PERTUSSIS HEPATITIS A\",\"CALIFORNIA<br>Disease PERTUSSIS HEPATITIS A\",\"COLORADO<br>Disease PERTUSSIS HEPATITIS A\",\"CONNECTICUT<br>Disease PERTUSSIS HEPATITIS A\",\"DELAWARE<br>Disease PERTUSSIS HEPATITIS A\",\"DISTRICT OF COLUMBIA<br>Disease PERTUSSIS HEPATITIS A\",\"FLORIDA<br>Disease PERTUSSIS HEPATITIS A\",\"GEORGIA<br>Disease PERTUSSIS HEPATITIS A\",\"HAWAII<br>Disease PERTUSSIS HEPATITIS A\",\"IDAHO<br>Disease PERTUSSIS HEPATITIS A\",\"ILLINOIS<br>Disease PERTUSSIS HEPATITIS A\",\"INDIANA<br>Disease PERTUSSIS HEPATITIS A\",\"IOWA<br>Disease PERTUSSIS HEPATITIS A\",\"KANSAS<br>Disease PERTUSSIS HEPATITIS A\",\"KENTUCKY<br>Disease PERTUSSIS HEPATITIS A\",\"LOUISIANA<br>Disease PERTUSSIS HEPATITIS A\",\"MAINE<br>Disease PERTUSSIS HEPATITIS A\",\"MARYLAND<br>Disease PERTUSSIS HEPATITIS A\",\"MASSACHUSETTS<br>Disease PERTUSSIS HEPATITIS A\",\"MICHIGAN<br>Disease PERTUSSIS HEPATITIS A\",\"MINNESOTA<br>Disease PERTUSSIS HEPATITIS A\",\"MISSISSIPPI<br>Disease PERTUSSIS HEPATITIS A\",\"MISSOURI<br>Disease PERTUSSIS HEPATITIS A\",\"MONTANA<br>Disease PERTUSSIS HEPATITIS A\",\"NEBRASKA<br>Disease PERTUSSIS HEPATITIS A\",\"NEVADA<br>Disease PERTUSSIS HEPATITIS A\",\"NEW HAMPSHIRE<br>Disease PERTUSSIS HEPATITIS A\",\"NEW JERSEY<br>Disease PERTUSSIS HEPATITIS A\",\"NEW MEXICO<br>Disease PERTUSSIS HEPATITIS A\",\"NEW YORK<br>Disease PERTUSSIS HEPATITIS A\",\"NORTH CAROLINA<br>Disease PERTUSSIS HEPATITIS A\",\"NORTH DAKOTA<br>Disease PERTUSSIS HEPATITIS A\",\"OHIO<br>Disease PERTUSSIS HEPATITIS A\",\"OKLAHOMA<br>Disease PERTUSSIS HEPATITIS A\",\"OREGON<br>Disease PERTUSSIS HEPATITIS A\",\"PENNSYLVANIA<br>Disease PERTUSSIS HEPATITIS A\",\"RHODE ISLAND<br>Disease PERTUSSIS HEPATITIS A\",\"SOUTH CAROLINA<br>Disease PERTUSSIS HEPATITIS A\",\"SOUTH DAKOTA<br>Disease PERTUSSIS HEPATITIS A\",\"TENNESSEE<br>Disease PERTUSSIS HEPATITIS A\",\"TEXAS<br>Disease PERTUSSIS HEPATITIS A\",\"UTAH<br>Disease PERTUSSIS HEPATITIS A\",\"VERMONT<br>Disease PERTUSSIS\",\"VIRGINIA<br>Disease PERTUSSIS HEPATITIS A\",\"WASHINGTON<br>Disease PERTUSSIS HEPATITIS A\",\"WEST VIRGINIA<br>Disease PERTUSSIS HEPATITIS A\",\"WISCONSIN<br>Disease PERTUSSIS HEPATITIS A\",\"WYOMING<br>Disease PERTUSSIS HEPATITIS A\"],\"marker\":{\"line\":{\"color\":\"rgb(255,255,255)\",\"width\":2}},\"colorbar\":{\"title\":\"Disease outbreak - cases in 2010\"}}],                        {\"title\":\"2010 US Diseases Cases Found by State<br>(Hover for breakdown)\",\"geo\":{\"scope\":\"usa\",\"projection\":{\"type\":\"albers usa\"},\"showlakes\":true,\"lakecolor\":\"rgb(255, 255, 255)\"}},                        {\"responsive\": true}                    ).then(function(){\n",
       "                            \n",
       "var gd = document.getElementById('f1a8826f-251b-4217-a619-16a711e19087');\n",
       "var x = new MutationObserver(function (mutations, observer) {{\n",
       "        var display = window.getComputedStyle(gd).display;\n",
       "        if (!display || display === 'none') {{\n",
       "            console.log([gd, 'removed!']);\n",
       "            Plotly.purge(gd);\n",
       "            observer.disconnect();\n",
       "        }}\n",
       "}});\n",
       "\n",
       "// Listen for the removal of the full notebook cells\n",
       "var notebookContainer = gd.closest('#notebook-container');\n",
       "if (notebookContainer) {{\n",
       "    x.observe(notebookContainer, {childList: true});\n",
       "}}\n",
       "\n",
       "// Listen for the clearing of the current output cell\n",
       "var outputEl = gd.closest('.output');\n",
       "if (outputEl) {{\n",
       "    x.observe(outputEl, {childList: true});\n",
       "}}\n",
       "\n",
       "                        })                };                });            </script>        </div>"
      ]
     },
     "metadata": {},
     "output_type": "display_data"
    }
   ],
   "source": [
    "get_1yr_viz(2010)"
   ]
  }
 ],
 "metadata": {
  "kernelspec": {
   "display_name": "Python 3",
   "language": "python",
   "name": "python3"
  },
  "language_info": {
   "codemirror_mode": {
    "name": "ipython",
    "version": 3
   },
   "file_extension": ".py",
   "mimetype": "text/x-python",
   "name": "python",
   "nbconvert_exporter": "python",
   "pygments_lexer": "ipython3",
   "version": "3.10.9"
  }
 },
 "nbformat": 4,
 "nbformat_minor": 2
}
